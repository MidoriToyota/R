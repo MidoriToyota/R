{
 "cells": [
  {
   "cell_type": "markdown",
   "metadata": {},
   "source": [
    "# **Exercício XGBoost**\n",
    "\n",
    "---\n",
    "\n",
    "<a href=\"https://midoritoyota.netlify.app/\" target=\"_blank\"><img align=\"left\" src=\"./images/portfolio.png\" title=\"See my portfolio!\"/></a><img align=\"left\" src=\"./images/espaco.png\"/>\n",
    "\n",
    "<a href=\"mailto:midori.toyota@gmail.com\" target=\"_blank\"><img align=\"left\" src=\"./images/gmail.png\" title=\"Contact me!\"/></a><img align=\"left\" src=\"./images/espaco.png\"/>\n",
    "\n",
    "<a href=\"https://www.linkedin.com/in/midoritoyota/\" target=\"_blank\"> <img align=\"left\" src=\"./images/linkedin.png\" title=\"Add me on linkedin!\" /></a><img align=\"left\" src=\"./images/espaco.png\"/>\n",
    "\n",
    "<a href=\"https://github.com/MidoriToyota\" target=\"_blank\"> <img align=\"left\" src=\"./images/github.png\" title=\"Follow me on github!\"/></a>\n",
    "\n",
    "<br/><br/>\n",
    "\n",
    "\n",
    "Esse notebook é o estudo do algorítimo XGBoost e é uma reprodução do exercício resolvido pelo criador do algorítimo, Tong He no vídeo abaixo:\n",
    "\n",
    "https://www.youtube.com/watch?time_continue=717&v=ufHo8vbk6g4&feature=emb_title\n",
    "\n",
    "Os dados para a execução do exercício são de uma competição do Kaggle \"Higgs Boson Machine Learning Challenge\":\n",
    "\n",
    "https://www.kaggle.com/c/higgs-boson\n",
    "\n",
    "\n",
    "## **Exemplo com dataset do pacote**\n",
    "\n",
    "### **Pacote e dados**\n",
    "\n",
    "O pacote já conta com 2 datasets, um de treino e um de teste."
   ]
  },
  {
   "cell_type": "code",
   "execution_count": 1,
   "metadata": {},
   "outputs": [],
   "source": [
    "# Carregar pacote\n",
    "library(xgboost)\n",
    "library(methods)"
   ]
  },
  {
   "cell_type": "code",
   "execution_count": 2,
   "metadata": {},
   "outputs": [
    {
     "name": "stdout",
     "output_type": "stream",
     "text": [
      "List of 2\n",
      " $ data :Formal class 'dgCMatrix' [package \"Matrix\"] with 6 slots\n",
      "  .. ..@ i       : int [1:143286] 2 6 8 11 18 20 21 24 28 32 ...\n",
      "  .. ..@ p       : int [1:127] 0 369 372 3306 5845 6489 6513 8380 8384 10991 ...\n",
      "  .. ..@ Dim     : int [1:2] 6513 126\n",
      "  .. ..@ Dimnames:List of 2\n",
      "  .. .. ..$ : NULL\n",
      "  .. .. ..$ : chr [1:126] \"cap-shape=bell\" \"cap-shape=conical\" \"cap-shape=convex\" \"cap-shape=flat\" ...\n",
      "  .. ..@ x       : num [1:143286] 1 1 1 1 1 1 1 1 1 1 ...\n",
      "  .. ..@ factors : list()\n",
      " $ label: num [1:6513] 1 0 0 1 0 0 0 1 0 0 ...\n"
     ]
    }
   ],
   "source": [
    "# Carregar dataset\n",
    "data(agaricus.train, package=\"xgboost\")\n",
    "data(agaricus.test, package=\"xgboost\")\n",
    "train = agaricus.train\n",
    "test = agaricus.test\n",
    "\n",
    "# Estrutura dos dados\n",
    "str(train)"
   ]
  },
  {
   "cell_type": "markdown",
   "metadata": {},
   "source": [
    "### **O algorítimo**\n",
    "\n",
    "**Informações mínimas**\n",
    "\n",
    "- `Dados de entrada` : dados em forma de matriz\n",
    "- `Variável target` : Um vetor numérico, usar número começando de 0 para classificação.\n",
    "- `Objetivo` : \"reg:linear\" ou \"binary:logistic\"\n",
    "- `Número de interações` : número de árvores adicionadas ao modelo\n",
    "\n",
    "**Comando para criar o modelo**"
   ]
  },
  {
   "cell_type": "code",
   "execution_count": 3,
   "metadata": {},
   "outputs": [
    {
     "name": "stdout",
     "output_type": "stream",
     "text": [
      "[1]\ttrain-error:0.000614 \n",
      "[2]\ttrain-error:0.001228 \n"
     ]
    }
   ],
   "source": [
    "# Para medir os resultados com base no erro\n",
    "bst = xgboost(data = train$data, label = train$label, nround = 2, objective = \"binary:logistic\")"
   ]
  },
  {
   "cell_type": "code",
   "execution_count": 4,
   "metadata": {},
   "outputs": [
    {
     "name": "stdout",
     "output_type": "stream",
     "text": [
      "[1]\ttrain-auc:0.999238 \n",
      "[2]\ttrain-auc:0.999238 \n"
     ]
    }
   ],
   "source": [
    "# Para medir os resultados com base no AUC (area under the curve)\n",
    "bst = xgboost(data = train$data, label = train$label, nround = 2, objective = \"binary:logistic\", eval_metric = \"auc\")"
   ]
  },
  {
   "cell_type": "markdown",
   "metadata": {},
   "source": [
    "**Previsão dos resultados**"
   ]
  },
  {
   "cell_type": "code",
   "execution_count": 5,
   "metadata": {},
   "outputs": [
    {
     "data": {
      "text/html": [
       "<style>\n",
       ".list-inline {list-style: none; margin:0; padding: 0}\n",
       ".list-inline>li {display: inline-block}\n",
       ".list-inline>li:not(:last-child)::after {content: \"\\00b7\"; padding: 0 .5ex}\n",
       "</style>\n",
       "<ol class=list-inline><li>0.258249819278717</li><li>0.7433220744133</li><li>0.258249819278717</li><li>0.258249819278717</li><li>0.257650941610336</li><li>0.275090783834457</li></ol>\n"
      ],
      "text/latex": [
       "\\begin{enumerate*}\n",
       "\\item 0.258249819278717\n",
       "\\item 0.7433220744133\n",
       "\\item 0.258249819278717\n",
       "\\item 0.258249819278717\n",
       "\\item 0.257650941610336\n",
       "\\item 0.275090783834457\n",
       "\\end{enumerate*}\n"
      ],
      "text/markdown": [
       "1. 0.258249819278717\n",
       "2. 0.7433220744133\n",
       "3. 0.258249819278717\n",
       "4. 0.258249819278717\n",
       "5. 0.257650941610336\n",
       "6. 0.275090783834457\n",
       "\n",
       "\n"
      ],
      "text/plain": [
       "[1] 0.2582498 0.7433221 0.2582498 0.2582498 0.2576509 0.2750908"
      ]
     },
     "metadata": {},
     "output_type": "display_data"
    }
   ],
   "source": [
    "# Visualização do resultado da previsão\n",
    "pred = predict(bst, test$data)\n",
    "head(pred)"
   ]
  },
  {
   "cell_type": "markdown",
   "metadata": {},
   "source": [
    "**Cross validation**"
   ]
  },
  {
   "cell_type": "code",
   "execution_count": 6,
   "metadata": {},
   "outputs": [
    {
     "name": "stdout",
     "output_type": "stream",
     "text": [
      "[1]\ttrain-auc:0.998856+0.000462\ttest-auc:0.998425+0.001363 \n",
      "[2]\ttrain-auc:0.999257+0.000461\ttest-auc:0.998659+0.001512 \n"
     ]
    }
   ],
   "source": [
    "# Modelo utilizando cross validation (para garantir que não está tendo overffiting)\n",
    "cv.res = xgb.cv(data = train$data, nfold = 5, label = train$label, nround = 2, objective = \"binary:logistic\", eval_metric = \"auc\")"
   ]
  },
  {
   "cell_type": "code",
   "execution_count": 7,
   "metadata": {},
   "outputs": [
    {
     "data": {
      "text/plain": [
       "##### xgb.cv 5-folds\n",
       " iter train_auc_mean train_auc_std test_auc_mean test_auc_std\n",
       "    1      0.9988564  0.0004623317     0.9984248  0.001363004\n",
       "    2      0.9992570  0.0004608045     0.9986592  0.001511688"
      ]
     },
     "metadata": {},
     "output_type": "display_data"
    }
   ],
   "source": [
    "# Visualização dos resultados\n",
    "cv.res"
   ]
  },
  {
   "cell_type": "markdown",
   "metadata": {},
   "source": [
    "## **Exercício - Higgs Boson Competition**\n",
    "\n",
    "Os dados para a execução do exercício são de uma competição do Kaggle \"Higgs Boson Machine Learning Challenge\":\n",
    "\n",
    "https://www.kaggle.com/c/higgs-boson\n"
   ]
  },
  {
   "cell_type": "code",
   "execution_count": 9,
   "metadata": {},
   "outputs": [
    {
     "data": {
      "text/html": [
       "<table>\n",
       "<caption>A data.frame: 6 × 33</caption>\n",
       "<thead>\n",
       "\t<tr><th></th><th scope=col>EventId</th><th scope=col>DER_mass_MMC</th><th scope=col>DER_mass_transverse_met_lep</th><th scope=col>DER_mass_vis</th><th scope=col>DER_pt_h</th><th scope=col>DER_deltaeta_jet_jet</th><th scope=col>DER_mass_jet_jet</th><th scope=col>DER_prodeta_jet_jet</th><th scope=col>DER_deltar_tau_lep</th><th scope=col>DER_pt_tot</th><th scope=col>...</th><th scope=col>PRI_jet_num</th><th scope=col>PRI_jet_leading_pt</th><th scope=col>PRI_jet_leading_eta</th><th scope=col>PRI_jet_leading_phi</th><th scope=col>PRI_jet_subleading_pt</th><th scope=col>PRI_jet_subleading_eta</th><th scope=col>PRI_jet_subleading_phi</th><th scope=col>PRI_jet_all_pt</th><th scope=col>Weight</th><th scope=col>Label</th></tr>\n",
       "\t<tr><th></th><th scope=col>&lt;int&gt;</th><th scope=col>&lt;dbl&gt;</th><th scope=col>&lt;dbl&gt;</th><th scope=col>&lt;dbl&gt;</th><th scope=col>&lt;dbl&gt;</th><th scope=col>&lt;dbl&gt;</th><th scope=col>&lt;dbl&gt;</th><th scope=col>&lt;dbl&gt;</th><th scope=col>&lt;dbl&gt;</th><th scope=col>&lt;dbl&gt;</th><th scope=col>...</th><th scope=col>&lt;int&gt;</th><th scope=col>&lt;dbl&gt;</th><th scope=col>&lt;dbl&gt;</th><th scope=col>&lt;dbl&gt;</th><th scope=col>&lt;dbl&gt;</th><th scope=col>&lt;dbl&gt;</th><th scope=col>&lt;dbl&gt;</th><th scope=col>&lt;dbl&gt;</th><th scope=col>&lt;dbl&gt;</th><th scope=col>&lt;fct&gt;</th></tr>\n",
       "</thead>\n",
       "<tbody>\n",
       "\t<tr><th scope=row>1</th><td>100000</td><td> 138.470</td><td> 51.655</td><td> 97.827</td><td> 27.980</td><td>   0.910</td><td> 124.711</td><td>   2.666</td><td>3.064</td><td>41.928</td><td>...</td><td>2</td><td>  67.435</td><td>   2.150</td><td>   0.444</td><td>  46.062</td><td>   1.240</td><td>  -2.475</td><td>113.497</td><td>0.002653311</td><td>s</td></tr>\n",
       "\t<tr><th scope=row>2</th><td>100001</td><td> 160.937</td><td> 68.768</td><td>103.235</td><td> 48.146</td><td>-999.000</td><td>-999.000</td><td>-999.000</td><td>3.473</td><td> 2.078</td><td>...</td><td>1</td><td>  46.226</td><td>   0.725</td><td>   1.158</td><td>-999.000</td><td>-999.000</td><td>-999.000</td><td> 46.226</td><td>2.233584487</td><td>b</td></tr>\n",
       "\t<tr><th scope=row>3</th><td>100002</td><td>-999.000</td><td>162.172</td><td>125.953</td><td> 35.635</td><td>-999.000</td><td>-999.000</td><td>-999.000</td><td>3.148</td><td> 9.336</td><td>...</td><td>1</td><td>  44.251</td><td>   2.053</td><td>  -2.028</td><td>-999.000</td><td>-999.000</td><td>-999.000</td><td> 44.251</td><td>2.347388944</td><td>b</td></tr>\n",
       "\t<tr><th scope=row>4</th><td>100003</td><td> 143.905</td><td> 81.417</td><td> 80.943</td><td>  0.414</td><td>-999.000</td><td>-999.000</td><td>-999.000</td><td>3.310</td><td> 0.414</td><td>...</td><td>0</td><td>-999.000</td><td>-999.000</td><td>-999.000</td><td>-999.000</td><td>-999.000</td><td>-999.000</td><td>  0.000</td><td>5.446378212</td><td>b</td></tr>\n",
       "\t<tr><th scope=row>5</th><td>100004</td><td> 175.864</td><td> 16.915</td><td>134.805</td><td> 16.405</td><td>-999.000</td><td>-999.000</td><td>-999.000</td><td>3.891</td><td>16.405</td><td>...</td><td>0</td><td>-999.000</td><td>-999.000</td><td>-999.000</td><td>-999.000</td><td>-999.000</td><td>-999.000</td><td>  0.000</td><td>6.245332687</td><td>b</td></tr>\n",
       "\t<tr><th scope=row>6</th><td>100005</td><td>  89.744</td><td> 13.550</td><td> 59.149</td><td>116.344</td><td>   2.636</td><td> 284.584</td><td>  -0.540</td><td>1.362</td><td>61.619</td><td>...</td><td>3</td><td>  90.547</td><td>  -2.412</td><td>  -0.653</td><td>  56.165</td><td>   0.224</td><td>   3.106</td><td>193.660</td><td>0.083414031</td><td>b</td></tr>\n",
       "</tbody>\n",
       "</table>\n"
      ],
      "text/latex": [
       "A data.frame: 6 × 33\n",
       "\\begin{tabular}{r|lllllllllllllllllllll}\n",
       "  & EventId & DER\\_mass\\_MMC & DER\\_mass\\_transverse\\_met\\_lep & DER\\_mass\\_vis & DER\\_pt\\_h & DER\\_deltaeta\\_jet\\_jet & DER\\_mass\\_jet\\_jet & DER\\_prodeta\\_jet\\_jet & DER\\_deltar\\_tau\\_lep & DER\\_pt\\_tot & ... & PRI\\_jet\\_num & PRI\\_jet\\_leading\\_pt & PRI\\_jet\\_leading\\_eta & PRI\\_jet\\_leading\\_phi & PRI\\_jet\\_subleading\\_pt & PRI\\_jet\\_subleading\\_eta & PRI\\_jet\\_subleading\\_phi & PRI\\_jet\\_all\\_pt & Weight & Label\\\\\n",
       "  & <int> & <dbl> & <dbl> & <dbl> & <dbl> & <dbl> & <dbl> & <dbl> & <dbl> & <dbl> & ... & <int> & <dbl> & <dbl> & <dbl> & <dbl> & <dbl> & <dbl> & <dbl> & <dbl> & <fct>\\\\\n",
       "\\hline\n",
       "\t1 & 100000 &  138.470 &  51.655 &  97.827 &  27.980 &    0.910 &  124.711 &    2.666 & 3.064 & 41.928 & ... & 2 &   67.435 &    2.150 &    0.444 &   46.062 &    1.240 &   -2.475 & 113.497 & 0.002653311 & s\\\\\n",
       "\t2 & 100001 &  160.937 &  68.768 & 103.235 &  48.146 & -999.000 & -999.000 & -999.000 & 3.473 &  2.078 & ... & 1 &   46.226 &    0.725 &    1.158 & -999.000 & -999.000 & -999.000 &  46.226 & 2.233584487 & b\\\\\n",
       "\t3 & 100002 & -999.000 & 162.172 & 125.953 &  35.635 & -999.000 & -999.000 & -999.000 & 3.148 &  9.336 & ... & 1 &   44.251 &    2.053 &   -2.028 & -999.000 & -999.000 & -999.000 &  44.251 & 2.347388944 & b\\\\\n",
       "\t4 & 100003 &  143.905 &  81.417 &  80.943 &   0.414 & -999.000 & -999.000 & -999.000 & 3.310 &  0.414 & ... & 0 & -999.000 & -999.000 & -999.000 & -999.000 & -999.000 & -999.000 &   0.000 & 5.446378212 & b\\\\\n",
       "\t5 & 100004 &  175.864 &  16.915 & 134.805 &  16.405 & -999.000 & -999.000 & -999.000 & 3.891 & 16.405 & ... & 0 & -999.000 & -999.000 & -999.000 & -999.000 & -999.000 & -999.000 &   0.000 & 6.245332687 & b\\\\\n",
       "\t6 & 100005 &   89.744 &  13.550 &  59.149 & 116.344 &    2.636 &  284.584 &   -0.540 & 1.362 & 61.619 & ... & 3 &   90.547 &   -2.412 &   -0.653 &   56.165 &    0.224 &    3.106 & 193.660 & 0.083414031 & b\\\\\n",
       "\\end{tabular}\n"
      ],
      "text/markdown": [
       "\n",
       "A data.frame: 6 × 33\n",
       "\n",
       "| <!--/--> | EventId &lt;int&gt; | DER_mass_MMC &lt;dbl&gt; | DER_mass_transverse_met_lep &lt;dbl&gt; | DER_mass_vis &lt;dbl&gt; | DER_pt_h &lt;dbl&gt; | DER_deltaeta_jet_jet &lt;dbl&gt; | DER_mass_jet_jet &lt;dbl&gt; | DER_prodeta_jet_jet &lt;dbl&gt; | DER_deltar_tau_lep &lt;dbl&gt; | DER_pt_tot &lt;dbl&gt; | ... ... | PRI_jet_num &lt;int&gt; | PRI_jet_leading_pt &lt;dbl&gt; | PRI_jet_leading_eta &lt;dbl&gt; | PRI_jet_leading_phi &lt;dbl&gt; | PRI_jet_subleading_pt &lt;dbl&gt; | PRI_jet_subleading_eta &lt;dbl&gt; | PRI_jet_subleading_phi &lt;dbl&gt; | PRI_jet_all_pt &lt;dbl&gt; | Weight &lt;dbl&gt; | Label &lt;fct&gt; |\n",
       "|---|---|---|---|---|---|---|---|---|---|---|---|---|---|---|---|---|---|---|---|---|---|\n",
       "| 1 | 100000 |  138.470 |  51.655 |  97.827 |  27.980 |    0.910 |  124.711 |    2.666 | 3.064 | 41.928 | ... | 2 |   67.435 |    2.150 |    0.444 |   46.062 |    1.240 |   -2.475 | 113.497 | 0.002653311 | s |\n",
       "| 2 | 100001 |  160.937 |  68.768 | 103.235 |  48.146 | -999.000 | -999.000 | -999.000 | 3.473 |  2.078 | ... | 1 |   46.226 |    0.725 |    1.158 | -999.000 | -999.000 | -999.000 |  46.226 | 2.233584487 | b |\n",
       "| 3 | 100002 | -999.000 | 162.172 | 125.953 |  35.635 | -999.000 | -999.000 | -999.000 | 3.148 |  9.336 | ... | 1 |   44.251 |    2.053 |   -2.028 | -999.000 | -999.000 | -999.000 |  44.251 | 2.347388944 | b |\n",
       "| 4 | 100003 |  143.905 |  81.417 |  80.943 |   0.414 | -999.000 | -999.000 | -999.000 | 3.310 |  0.414 | ... | 0 | -999.000 | -999.000 | -999.000 | -999.000 | -999.000 | -999.000 |   0.000 | 5.446378212 | b |\n",
       "| 5 | 100004 |  175.864 |  16.915 | 134.805 |  16.405 | -999.000 | -999.000 | -999.000 | 3.891 | 16.405 | ... | 0 | -999.000 | -999.000 | -999.000 | -999.000 | -999.000 | -999.000 |   0.000 | 6.245332687 | b |\n",
       "| 6 | 100005 |   89.744 |  13.550 |  59.149 | 116.344 |    2.636 |  284.584 |   -0.540 | 1.362 | 61.619 | ... | 3 |   90.547 |   -2.412 |   -0.653 |   56.165 |    0.224 |    3.106 | 193.660 | 0.083414031 | b |\n",
       "\n"
      ],
      "text/plain": [
       "  EventId DER_mass_MMC DER_mass_transverse_met_lep DER_mass_vis DER_pt_h\n",
       "1 100000   138.470      51.655                      97.827       27.980 \n",
       "2 100001   160.937      68.768                     103.235       48.146 \n",
       "3 100002  -999.000     162.172                     125.953       35.635 \n",
       "4 100003   143.905      81.417                      80.943        0.414 \n",
       "5 100004   175.864      16.915                     134.805       16.405 \n",
       "6 100005    89.744      13.550                      59.149      116.344 \n",
       "  DER_deltaeta_jet_jet DER_mass_jet_jet DER_prodeta_jet_jet DER_deltar_tau_lep\n",
       "1    0.910              124.711            2.666            3.064             \n",
       "2 -999.000             -999.000         -999.000            3.473             \n",
       "3 -999.000             -999.000         -999.000            3.148             \n",
       "4 -999.000             -999.000         -999.000            3.310             \n",
       "5 -999.000             -999.000         -999.000            3.891             \n",
       "6    2.636              284.584           -0.540            1.362             \n",
       "  DER_pt_tot ... PRI_jet_num PRI_jet_leading_pt PRI_jet_leading_eta\n",
       "1 41.928     ... 2             67.435              2.150           \n",
       "2  2.078     ... 1             46.226              0.725           \n",
       "3  9.336     ... 1             44.251              2.053           \n",
       "4  0.414     ... 0           -999.000           -999.000           \n",
       "5 16.405     ... 0           -999.000           -999.000           \n",
       "6 61.619     ... 3             90.547             -2.412           \n",
       "  PRI_jet_leading_phi PRI_jet_subleading_pt PRI_jet_subleading_eta\n",
       "1    0.444              46.062                 1.240              \n",
       "2    1.158            -999.000              -999.000              \n",
       "3   -2.028            -999.000              -999.000              \n",
       "4 -999.000            -999.000              -999.000              \n",
       "5 -999.000            -999.000              -999.000              \n",
       "6   -0.653              56.165                 0.224              \n",
       "  PRI_jet_subleading_phi PRI_jet_all_pt Weight      Label\n",
       "1   -2.475               113.497        0.002653311 s    \n",
       "2 -999.000                46.226        2.233584487 b    \n",
       "3 -999.000                44.251        2.347388944 b    \n",
       "4 -999.000                 0.000        5.446378212 b    \n",
       "5 -999.000                 0.000        6.245332687 b    \n",
       "6    3.106               193.660        0.083414031 b    "
      ]
     },
     "metadata": {},
     "output_type": "display_data"
    }
   ],
   "source": [
    "# Carregar dataset\n",
    "dtrain = read.csv(\"data/training.csv\", header = TRUE)\n",
    "head(dtrain)"
   ]
  },
  {
   "cell_type": "markdown",
   "metadata": {},
   "source": [
    "### **Criação do modelo**"
   ]
  },
  {
   "cell_type": "code",
   "execution_count": 10,
   "metadata": {},
   "outputs": [
    {
     "name": "stdout",
     "output_type": "stream",
     "text": [
      "Class 'xgb.DMatrix' <externalptr> \n",
      " - attr(*, \".Dimnames\")=List of 2\n",
      "  ..$ : NULL\n",
      "  ..$ : chr [1:30] \"DER_mass_MMC\" \"DER_mass_transverse_met_lep\" \"DER_mass_vis\" \"DER_pt_h\" ...\n"
     ]
    }
   ],
   "source": [
    "# Mudar a variável target de character para 1 ou 0 (binário)\n",
    "dtrain[33] = dtrain[33] == \"s\"\n",
    "\n",
    "# Criar um dataframe só com os labels\n",
    "label = as.numeric(dtrain[[33]])\n",
    "\n",
    "# Colocar todos os outros dados no dataset data\n",
    "data = as.matrix(dtrain[2:31])\n",
    "\n",
    "# Mudança feita por razões da competição\n",
    "testsize = 550000\n",
    "weight = as.numeric(dtrain[[32]]) * testsize / length(label)\n",
    "sumwpos = sum(weight * (label == 1.0))\n",
    "sumwneg = sum(weight * (label == 0.0))\n",
    "\n",
    "# Construção de uma matrix (os valores missing estão marcados com -999 no dataframe)\n",
    "xgmat = xgb.DMatrix(data, label = label, weight = weight, missing = -999.0)\n",
    "\n",
    "# Visualização dos dados\n",
    "str(xgmat)"
   ]
  },
  {
   "cell_type": "code",
   "execution_count": 11,
   "metadata": {},
   "outputs": [
    {
     "name": "stdout",
     "output_type": "stream",
     "text": [
      "[1]\ttrain-auc:0.910911\ttrain-ams@0.15:3.708224 \n",
      "[2]\ttrain-auc:0.917686\ttrain-ams@0.15:3.965037 \n",
      "[3]\ttrain-auc:0.920749\ttrain-ams@0.15:4.275046 \n",
      "[4]\ttrain-auc:0.922946\ttrain-ams@0.15:4.344920 \n",
      "[5]\ttrain-auc:0.924997\ttrain-ams@0.15:4.408474 \n",
      "[6]\ttrain-auc:0.927125\ttrain-ams@0.15:4.493840 \n",
      "[7]\ttrain-auc:0.928785\ttrain-ams@0.15:4.646137 \n",
      "[8]\ttrain-auc:0.929895\ttrain-ams@0.15:4.642409 \n",
      "[9]\ttrain-auc:0.931058\ttrain-ams@0.15:4.730632 \n",
      "[10]\ttrain-auc:0.932234\ttrain-ams@0.15:4.794474 \n",
      "[11]\ttrain-auc:0.933023\ttrain-ams@0.15:4.858200 \n",
      "[12]\ttrain-auc:0.933709\ttrain-ams@0.15:4.949893 \n",
      "[13]\ttrain-auc:0.934582\ttrain-ams@0.15:4.981353 \n",
      "[14]\ttrain-auc:0.935454\ttrain-ams@0.15:5.032665 \n",
      "[15]\ttrain-auc:0.935974\ttrain-ams@0.15:5.077259 \n",
      "[16]\ttrain-auc:0.936736\ttrain-ams@0.15:5.120542 \n",
      "[17]\ttrain-auc:0.937236\ttrain-ams@0.15:5.180023 \n",
      "[18]\ttrain-auc:0.937664\ttrain-ams@0.15:5.201569 \n",
      "[19]\ttrain-auc:0.938031\ttrain-ams@0.15:5.231637 \n",
      "[20]\ttrain-auc:0.938618\ttrain-ams@0.15:5.291092 \n",
      "[21]\ttrain-auc:0.939102\ttrain-ams@0.15:5.347267 \n",
      "[22]\ttrain-auc:0.939529\ttrain-ams@0.15:5.392666 \n",
      "[23]\ttrain-auc:0.940177\ttrain-ams@0.15:5.433137 \n",
      "[24]\ttrain-auc:0.940464\ttrain-ams@0.15:5.466242 \n",
      "[25]\ttrain-auc:0.940851\ttrain-ams@0.15:5.504581 \n",
      "[26]\ttrain-auc:0.941139\ttrain-ams@0.15:5.538761 \n",
      "[27]\ttrain-auc:0.941385\ttrain-ams@0.15:5.551333 \n",
      "[28]\ttrain-auc:0.941902\ttrain-ams@0.15:5.581720 \n",
      "[29]\ttrain-auc:0.942056\ttrain-ams@0.15:5.581152 \n",
      "[30]\ttrain-auc:0.942337\ttrain-ams@0.15:5.597610 \n",
      "[31]\ttrain-auc:0.942538\ttrain-ams@0.15:5.606969 \n",
      "[32]\ttrain-auc:0.942820\ttrain-ams@0.15:5.633630 \n",
      "[33]\ttrain-auc:0.943275\ttrain-ams@0.15:5.725735 \n",
      "[34]\ttrain-auc:0.943433\ttrain-ams@0.15:5.749681 \n",
      "[35]\ttrain-auc:0.943733\ttrain-ams@0.15:5.737387 \n",
      "[36]\ttrain-auc:0.943934\ttrain-ams@0.15:5.753456 \n",
      "[37]\ttrain-auc:0.944356\ttrain-ams@0.15:5.758236 \n",
      "[38]\ttrain-auc:0.944646\ttrain-ams@0.15:5.785083 \n",
      "[39]\ttrain-auc:0.944865\ttrain-ams@0.15:5.802400 \n",
      "[40]\ttrain-auc:0.945074\ttrain-ams@0.15:5.804245 \n",
      "[41]\ttrain-auc:0.945332\ttrain-ams@0.15:5.801196 \n",
      "[42]\ttrain-auc:0.945628\ttrain-ams@0.15:5.809859 \n",
      "[43]\ttrain-auc:0.945854\ttrain-ams@0.15:5.812093 \n",
      "[44]\ttrain-auc:0.945999\ttrain-ams@0.15:5.828267 \n",
      "[45]\ttrain-auc:0.946102\ttrain-ams@0.15:5.829000 \n",
      "[46]\ttrain-auc:0.946502\ttrain-ams@0.15:5.834992 \n",
      "[47]\ttrain-auc:0.946777\ttrain-ams@0.15:5.839420 \n",
      "[48]\ttrain-auc:0.946978\ttrain-ams@0.15:5.879119 \n",
      "[49]\ttrain-auc:0.947295\ttrain-ams@0.15:5.909181 \n",
      "[50]\ttrain-auc:0.947440\ttrain-ams@0.15:5.909851 \n",
      "[51]\ttrain-auc:0.947491\ttrain-ams@0.15:5.911339 \n",
      "[52]\ttrain-auc:0.947627\ttrain-ams@0.15:5.942626 \n",
      "[53]\ttrain-auc:0.947734\ttrain-ams@0.15:5.952403 \n",
      "[54]\ttrain-auc:0.947922\ttrain-ams@0.15:5.955564 \n",
      "[55]\ttrain-auc:0.948186\ttrain-ams@0.15:5.982399 \n",
      "[56]\ttrain-auc:0.948413\ttrain-ams@0.15:5.991560 \n",
      "[57]\ttrain-auc:0.948581\ttrain-ams@0.15:5.993233 \n",
      "[58]\ttrain-auc:0.948808\ttrain-ams@0.15:5.995197 \n",
      "[59]\ttrain-auc:0.949001\ttrain-ams@0.15:6.011053 \n",
      "[60]\ttrain-auc:0.949189\ttrain-ams@0.15:6.019428 \n",
      "[61]\ttrain-auc:0.949232\ttrain-ams@0.15:6.013192 \n",
      "[62]\ttrain-auc:0.949345\ttrain-ams@0.15:6.027044 \n",
      "[63]\ttrain-auc:0.949472\ttrain-ams@0.15:6.035927 \n",
      "[64]\ttrain-auc:0.949592\ttrain-ams@0.15:6.038088 \n",
      "[65]\ttrain-auc:0.949632\ttrain-ams@0.15:6.036296 \n",
      "[66]\ttrain-auc:0.949712\ttrain-ams@0.15:6.064819 \n",
      "[67]\ttrain-auc:0.949886\ttrain-ams@0.15:6.080107 \n",
      "[68]\ttrain-auc:0.950022\ttrain-ams@0.15:6.084941 \n",
      "[69]\ttrain-auc:0.950075\ttrain-ams@0.15:6.089634 \n",
      "[70]\ttrain-auc:0.950219\ttrain-ams@0.15:6.094600 \n",
      "[71]\ttrain-auc:0.950447\ttrain-ams@0.15:6.097236 \n",
      "[72]\ttrain-auc:0.950560\ttrain-ams@0.15:6.099885 \n",
      "[73]\ttrain-auc:0.950670\ttrain-ams@0.15:6.108960 \n",
      "[74]\ttrain-auc:0.950891\ttrain-ams@0.15:6.099022 \n",
      "[75]\ttrain-auc:0.951100\ttrain-ams@0.15:6.104890 \n",
      "[76]\ttrain-auc:0.951203\ttrain-ams@0.15:6.108644 \n",
      "[77]\ttrain-auc:0.951276\ttrain-ams@0.15:6.113413 \n",
      "[78]\ttrain-auc:0.951337\ttrain-ams@0.15:6.114335 \n",
      "[79]\ttrain-auc:0.951413\ttrain-ams@0.15:6.121876 \n",
      "[80]\ttrain-auc:0.951605\ttrain-ams@0.15:6.131617 \n",
      "[81]\ttrain-auc:0.951834\ttrain-ams@0.15:6.128976 \n",
      "[82]\ttrain-auc:0.951916\ttrain-ams@0.15:6.128448 \n",
      "[83]\ttrain-auc:0.952108\ttrain-ams@0.15:6.132691 \n",
      "[84]\ttrain-auc:0.952251\ttrain-ams@0.15:6.145883 \n",
      "[85]\ttrain-auc:0.952487\ttrain-ams@0.15:6.159216 \n",
      "[86]\ttrain-auc:0.952756\ttrain-ams@0.15:6.172594 \n",
      "[87]\ttrain-auc:0.952918\ttrain-ams@0.15:6.168954 \n",
      "[88]\ttrain-auc:0.953100\ttrain-ams@0.15:6.165635 \n",
      "[89]\ttrain-auc:0.953215\ttrain-ams@0.15:6.190146 \n",
      "[90]\ttrain-auc:0.953247\ttrain-ams@0.15:6.192209 \n",
      "[91]\ttrain-auc:0.953408\ttrain-ams@0.15:6.195626 \n",
      "[92]\ttrain-auc:0.953512\ttrain-ams@0.15:6.189883 \n",
      "[93]\ttrain-auc:0.953622\ttrain-ams@0.15:6.207269 \n",
      "[94]\ttrain-auc:0.953727\ttrain-ams@0.15:6.217503 \n",
      "[95]\ttrain-auc:0.953825\ttrain-ams@0.15:6.240077 \n",
      "[96]\ttrain-auc:0.953933\ttrain-ams@0.15:6.238349 \n",
      "[97]\ttrain-auc:0.954016\ttrain-ams@0.15:6.262752 \n",
      "[98]\ttrain-auc:0.954179\ttrain-ams@0.15:6.292585 \n",
      "[99]\ttrain-auc:0.954286\ttrain-ams@0.15:6.289582 \n",
      "[100]\ttrain-auc:0.954453\ttrain-ams@0.15:6.292873 \n",
      "[101]\ttrain-auc:0.954684\ttrain-ams@0.15:6.328579 \n",
      "[102]\ttrain-auc:0.954845\ttrain-ams@0.15:6.319476 \n",
      "[103]\ttrain-auc:0.954960\ttrain-ams@0.15:6.323030 \n",
      "[104]\ttrain-auc:0.955122\ttrain-ams@0.15:6.343284 \n",
      "[105]\ttrain-auc:0.955272\ttrain-ams@0.15:6.368731 \n",
      "[106]\ttrain-auc:0.955473\ttrain-ams@0.15:6.395980 \n",
      "[107]\ttrain-auc:0.955632\ttrain-ams@0.15:6.418699 \n",
      "[108]\ttrain-auc:0.955739\ttrain-ams@0.15:6.428165 \n",
      "[109]\ttrain-auc:0.955828\ttrain-ams@0.15:6.421735 \n",
      "[110]\ttrain-auc:0.956074\ttrain-ams@0.15:6.434892 \n",
      "[111]\ttrain-auc:0.956237\ttrain-ams@0.15:6.487800 \n",
      "[112]\ttrain-auc:0.956287\ttrain-ams@0.15:6.496918 \n",
      "[113]\ttrain-auc:0.956364\ttrain-ams@0.15:6.497404 \n",
      "[114]\ttrain-auc:0.956513\ttrain-ams@0.15:6.516485 \n",
      "[115]\ttrain-auc:0.956640\ttrain-ams@0.15:6.513275 \n",
      "[116]\ttrain-auc:0.956866\ttrain-ams@0.15:6.543054 \n",
      "[117]\ttrain-auc:0.956952\ttrain-ams@0.15:6.543689 \n",
      "[118]\ttrain-auc:0.957088\ttrain-ams@0.15:6.578606 \n",
      "[119]\ttrain-auc:0.957241\ttrain-ams@0.15:6.601912 \n",
      "[120]\ttrain-auc:0.957455\ttrain-ams@0.15:6.598570 \n"
     ]
    }
   ],
   "source": [
    "# Set dos parametros\n",
    "param = list(\"objective\" = \"binary:logitraw\",\n",
    "            \"scale_pos_weight\" = sumwneg/sumwpos,\n",
    "            \"bst:eta\" = 0.1,\n",
    "            \"bst:max_depth\" = 6,\n",
    "             \"eval_metric\" = \"auc\",\n",
    "             \"eval_metric\" = \"ams@0.15\",\n",
    "             \"silent\" = 1,\n",
    "             \"nthread\" = 16)\n",
    "\n",
    "# Criação do modelo\n",
    "bst = xgboost(params = param, data = xgmat, nround = 120)"
   ]
  },
  {
   "cell_type": "markdown",
   "metadata": {},
   "source": [
    "### **Aplicação do modelo**"
   ]
  },
  {
   "cell_type": "code",
   "execution_count": 12,
   "metadata": {},
   "outputs": [
    {
     "data": {
      "text/html": [
       "<table>\n",
       "<caption>A data.frame: 6 × 3</caption>\n",
       "<thead>\n",
       "\t<tr><th></th><th scope=col>EventId</th><th scope=col>RankOrder</th><th scope=col>Class</th></tr>\n",
       "\t<tr><th></th><th scope=col>&lt;int&gt;</th><th scope=col>&lt;int&gt;</th><th scope=col>&lt;fct&gt;</th></tr>\n",
       "</thead>\n",
       "<tbody>\n",
       "\t<tr><th scope=row>1</th><td>350000</td><td> 16705</td><td>b</td></tr>\n",
       "\t<tr><th scope=row>2</th><td>350001</td><td>216737</td><td>b</td></tr>\n",
       "\t<tr><th scope=row>3</th><td>350002</td><td>348612</td><td>b</td></tr>\n",
       "\t<tr><th scope=row>4</th><td>350003</td><td>486482</td><td>s</td></tr>\n",
       "\t<tr><th scope=row>5</th><td>350004</td><td>134241</td><td>b</td></tr>\n",
       "\t<tr><th scope=row>6</th><td>350005</td><td>184578</td><td>b</td></tr>\n",
       "</tbody>\n",
       "</table>\n"
      ],
      "text/latex": [
       "A data.frame: 6 × 3\n",
       "\\begin{tabular}{r|lll}\n",
       "  & EventId & RankOrder & Class\\\\\n",
       "  & <int> & <int> & <fct>\\\\\n",
       "\\hline\n",
       "\t1 & 350000 &  16705 & b\\\\\n",
       "\t2 & 350001 & 216737 & b\\\\\n",
       "\t3 & 350002 & 348612 & b\\\\\n",
       "\t4 & 350003 & 486482 & s\\\\\n",
       "\t5 & 350004 & 134241 & b\\\\\n",
       "\t6 & 350005 & 184578 & b\\\\\n",
       "\\end{tabular}\n"
      ],
      "text/markdown": [
       "\n",
       "A data.frame: 6 × 3\n",
       "\n",
       "| <!--/--> | EventId &lt;int&gt; | RankOrder &lt;int&gt; | Class &lt;fct&gt; |\n",
       "|---|---|---|---|\n",
       "| 1 | 350000 |  16705 | b |\n",
       "| 2 | 350001 | 216737 | b |\n",
       "| 3 | 350002 | 348612 | b |\n",
       "| 4 | 350003 | 486482 | s |\n",
       "| 5 | 350004 | 134241 | b |\n",
       "| 6 | 350005 | 184578 | b |\n",
       "\n"
      ],
      "text/plain": [
       "  EventId RankOrder Class\n",
       "1 350000   16705    b    \n",
       "2 350001  216737    b    \n",
       "3 350002  348612    b    \n",
       "4 350003  486482    s    \n",
       "5 350004  134241    b    \n",
       "6 350005  184578    b    "
      ]
     },
     "metadata": {},
     "output_type": "display_data"
    }
   ],
   "source": [
    "# Dados para teste\n",
    "dtest = read.csv(\"data/test.csv\", header = TRUE)\n",
    "data = as.matrix(dtest[2:31])\n",
    "\n",
    "# Construção da matriz legível para o algorítimo\n",
    "xgmat = xgb.DMatrix(data, missing = -999.0)\n",
    "\n",
    "# Aplicação do modelo nos dados\n",
    "ypred = predict(bst, xgmat)\n",
    "\n",
    "# Formatação da tabela de saída\n",
    "idx = dtest[[1]]\n",
    "rorder = rank(ypred, ties.method = \"first\" )\n",
    "threshold = 0.15\n",
    "ntop = length(rorder) - as.integer(threshold * length(rorder))\n",
    "plabel = ifelse(rorder > ntop, \"s\", \"b\")\n",
    "outdata = list(\"EventId\" = idx,\n",
    "              \"RankOrder\" = rorder,\n",
    "               \"Class\" = plabel)\n",
    "\n",
    "# Salvar dados em csv\n",
    "write.csv(outdata, file = \"./data/submission.csv\", quote=FALSE, row.names = FALSE)\n",
    "\n",
    "# Visualização dos dados\n",
    "dados = as.data.frame(outdata)\n",
    "head(dados)"
   ]
  },
  {
   "cell_type": "markdown",
   "metadata": {},
   "source": [
    "---\n",
    "\n",
    "<a href=\"https://midoritoyota.netlify.app/\" target=\"_blank\"><img align=\"left\" src=\"./images/portfolio.png\" title=\"See my portfolio!\"/></a><img align=\"left\" src=\"./images/espaco.png\"/>\n",
    "\n",
    "<a href=\"mailto:midori.toyota@gmail.com\" target=\"_blank\"><img align=\"left\" src=\"./images/gmail.png\" title=\"Contact me!\"/></a><img align=\"left\" src=\"./images/espaco.png\"/>\n",
    "\n",
    "<a href=\"https://www.linkedin.com/in/midoritoyota/\" target=\"_blank\"> <img align=\"left\" src=\"./images/linkedin.png\" title=\"Add me on linkedin!\" /></a><img align=\"left\" src=\"./images/espaco.png\"/>\n",
    "\n",
    "<a href=\"https://github.com/MidoriToyota\" target=\"_blank\"> <img align=\"left\" src=\"./images/github.png\" title=\"Follow me on github!\"/></a>\n",
    "\n",
    "<br/><br/>\n"
   ]
  }
 ],
 "metadata": {
  "kernelspec": {
   "display_name": "R",
   "language": "R",
   "name": "ir"
  },
  "language_info": {
   "codemirror_mode": "r",
   "file_extension": ".r",
   "mimetype": "text/x-r-source",
   "name": "R",
   "pygments_lexer": "r",
   "version": "3.6.3"
  }
 },
 "nbformat": 4,
 "nbformat_minor": 4
}
