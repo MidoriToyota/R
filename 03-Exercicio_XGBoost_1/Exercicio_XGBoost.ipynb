{
 "cells": [
  {
   "cell_type": "markdown",
   "metadata": {},
   "source": [
    "# **Exercício XGBoost**\n",
    "---\n",
    "\n",
    "Esse notebook é o estudo do algorítimo XGBoost e é uma reprodução do exercício resolvido pelo criador do algorítimo, Tong He no vídeo abaixo:\n",
    "\n",
    "https://www.youtube.com/watch?time_continue=717&v=ufHo8vbk6g4&feature=emb_title\n",
    "\n",
    "Os dados para a execução do exercício são de uma competição do Kaggle \"Higgs Boson Machine Learning Challenge\":\n",
    "\n",
    "https://www.kaggle.com/c/higgs-boson\n",
    "\n",
    "\n",
    "## **Exemplo com dataset do pacote**\n",
    "\n",
    "### **Pacote e dados**\n",
    "\n",
    "O pacote já conta com 2 datasets, um de treino e um de teste."
   ]
  },
  {
   "cell_type": "code",
   "execution_count": 34,
   "metadata": {},
   "outputs": [],
   "source": [
    "# Carregar pacote\n",
    "library(xgboost)\n",
    "library(methods)"
   ]
  },
  {
   "cell_type": "code",
   "execution_count": 12,
   "metadata": {},
   "outputs": [],
   "source": [
    "# Carregar dataset\n",
    "data(agaricus.train, package=\"xgboost\")\n",
    "data(agaricus.test, package=\"xgboost\")\n",
    "train = agaricus.train\n",
    "test = agaricus.test\n",
    "\n",
    "# Estrutura dos dados\n",
    "str(train)"
   ]
  },
  {
   "cell_type": "markdown",
   "metadata": {},
   "source": [
    "### **O algorítimo**\n",
    "\n",
    "**Informações mínimas**\n",
    "\n",
    "- `Dados de entrada` : dados em forma de matriz\n",
    "- `Variável target` : Um vetor numérico, usar número começando de 0 para classificação.\n",
    "- `Objetivo` : \"reg:linear\" ou \"binary:logistic\"\n",
    "- `Número de interações` : número de árvores adicionadas ao modelo\n",
    "\n",
    "**Comando para criar o modelo**"
   ]
  },
  {
   "cell_type": "code",
   "execution_count": 23,
   "metadata": {},
   "outputs": [
    {
     "name": "stdout",
     "output_type": "stream",
     "text": [
      "[1]\ttrain-error:0.000614 \n",
      "[2]\ttrain-error:0.001228 \n"
     ]
    }
   ],
   "source": [
    "# Para medir os resultados com base no erro\n",
    "bst = xgboost(data = train$data, label = train$label, nround = 2, objective = \"binary:logistic\")"
   ]
  },
  {
   "cell_type": "code",
   "execution_count": 24,
   "metadata": {},
   "outputs": [
    {
     "name": "stdout",
     "output_type": "stream",
     "text": [
      "[1]\ttrain-auc:0.999238 \n",
      "[2]\ttrain-auc:0.999238 \n"
     ]
    }
   ],
   "source": [
    "# Para medir os resultados com base no AUC (area under the curve)\n",
    "bst = xgboost(data = train$data, label = train$label, nround = 2, objective = \"binary:logistic\", eval_metric = \"auc\")"
   ]
  },
  {
   "cell_type": "markdown",
   "metadata": {},
   "source": [
    "**Previsão dos resultados**"
   ]
  },
  {
   "cell_type": "code",
   "execution_count": 26,
   "metadata": {},
   "outputs": [
    {
     "data": {
      "text/html": [
       "<style>\n",
       ".list-inline {list-style: none; margin:0; padding: 0}\n",
       ".list-inline>li {display: inline-block}\n",
       ".list-inline>li:not(:last-child)::after {content: \"\\00b7\"; padding: 0 .5ex}\n",
       "</style>\n",
       "<ol class=list-inline><li>0.258249819278717</li><li>0.7433220744133</li><li>0.258249819278717</li><li>0.258249819278717</li><li>0.257650941610336</li><li>0.275090783834457</li></ol>\n"
      ],
      "text/latex": [
       "\\begin{enumerate*}\n",
       "\\item 0.258249819278717\n",
       "\\item 0.7433220744133\n",
       "\\item 0.258249819278717\n",
       "\\item 0.258249819278717\n",
       "\\item 0.257650941610336\n",
       "\\item 0.275090783834457\n",
       "\\end{enumerate*}\n"
      ],
      "text/markdown": [
       "1. 0.258249819278717\n",
       "2. 0.7433220744133\n",
       "3. 0.258249819278717\n",
       "4. 0.258249819278717\n",
       "5. 0.257650941610336\n",
       "6. 0.275090783834457\n",
       "\n",
       "\n"
      ],
      "text/plain": [
       "[1] 0.2582498 0.7433221 0.2582498 0.2582498 0.2576509 0.2750908"
      ]
     },
     "metadata": {},
     "output_type": "display_data"
    }
   ],
   "source": [
    "# Visualização do resultado da previsão\n",
    "pred = predict(bst, test$data)\n",
    "head(pred)"
   ]
  },
  {
   "cell_type": "markdown",
   "metadata": {},
   "source": [
    "**Cross validation**"
   ]
  },
  {
   "cell_type": "code",
   "execution_count": 31,
   "metadata": {},
   "outputs": [
    {
     "name": "stdout",
     "output_type": "stream",
     "text": [
      "[1]\ttrain-auc:0.998857+0.000349\ttest-auc:0.998466+0.001319 \n",
      "[2]\ttrain-auc:0.999189+0.000468\ttest-auc:0.998661+0.001452 \n"
     ]
    }
   ],
   "source": [
    "# Modelo utilizando cross validation (para garantir que não está tendo overffiting)\n",
    "cv.res = xgb.cv(data = train$data, nfold = 5, label = train$label, nround = 2, objective = \"binary:logistic\", eval_metric = \"auc\")"
   ]
  },
  {
   "cell_type": "code",
   "execution_count": 32,
   "metadata": {},
   "outputs": [
    {
     "data": {
      "text/plain": [
       "##### xgb.cv 5-folds\n",
       " iter train_auc_mean train_auc_std test_auc_mean test_auc_std\n",
       "    1      0.9988574  0.0003485034     0.9984664  0.001319016\n",
       "    2      0.9991890  0.0004684822     0.9986608  0.001452350"
      ]
     },
     "metadata": {},
     "output_type": "display_data"
    }
   ],
   "source": [
    "# Visualização dos resultados\n",
    "cv.res"
   ]
  },
  {
   "cell_type": "markdown",
   "metadata": {},
   "source": [
    "## **Exercício - Higgs Boson Competition**\n",
    "\n",
    "Os dados para a execução do exercício são de uma competição do Kaggle \"Higgs Boson Machine Learning Challenge\":\n",
    "\n",
    "https://www.kaggle.com/c/higgs-boson\n"
   ]
  },
  {
   "cell_type": "code",
   "execution_count": 112,
   "metadata": {},
   "outputs": [
    {
     "data": {
      "text/html": [
       "<table>\n",
       "<caption>A data.frame: 6 × 33</caption>\n",
       "<thead>\n",
       "\t<tr><th></th><th scope=col>EventId</th><th scope=col>DER_mass_MMC</th><th scope=col>DER_mass_transverse_met_lep</th><th scope=col>DER_mass_vis</th><th scope=col>DER_pt_h</th><th scope=col>DER_deltaeta_jet_jet</th><th scope=col>DER_mass_jet_jet</th><th scope=col>DER_prodeta_jet_jet</th><th scope=col>DER_deltar_tau_lep</th><th scope=col>DER_pt_tot</th><th scope=col>...</th><th scope=col>PRI_jet_num</th><th scope=col>PRI_jet_leading_pt</th><th scope=col>PRI_jet_leading_eta</th><th scope=col>PRI_jet_leading_phi</th><th scope=col>PRI_jet_subleading_pt</th><th scope=col>PRI_jet_subleading_eta</th><th scope=col>PRI_jet_subleading_phi</th><th scope=col>PRI_jet_all_pt</th><th scope=col>Weight</th><th scope=col>Label</th></tr>\n",
       "\t<tr><th></th><th scope=col>&lt;int&gt;</th><th scope=col>&lt;dbl&gt;</th><th scope=col>&lt;dbl&gt;</th><th scope=col>&lt;dbl&gt;</th><th scope=col>&lt;dbl&gt;</th><th scope=col>&lt;dbl&gt;</th><th scope=col>&lt;dbl&gt;</th><th scope=col>&lt;dbl&gt;</th><th scope=col>&lt;dbl&gt;</th><th scope=col>&lt;dbl&gt;</th><th scope=col>...</th><th scope=col>&lt;int&gt;</th><th scope=col>&lt;dbl&gt;</th><th scope=col>&lt;dbl&gt;</th><th scope=col>&lt;dbl&gt;</th><th scope=col>&lt;dbl&gt;</th><th scope=col>&lt;dbl&gt;</th><th scope=col>&lt;dbl&gt;</th><th scope=col>&lt;dbl&gt;</th><th scope=col>&lt;dbl&gt;</th><th scope=col>&lt;fct&gt;</th></tr>\n",
       "</thead>\n",
       "<tbody>\n",
       "\t<tr><th scope=row>1</th><td>100000</td><td> 138.470</td><td> 51.655</td><td> 97.827</td><td> 27.980</td><td>   0.910</td><td> 124.711</td><td>   2.666</td><td>3.064</td><td>41.928</td><td>...</td><td>2</td><td>  67.435</td><td>   2.150</td><td>   0.444</td><td>  46.062</td><td>   1.240</td><td>  -2.475</td><td>113.497</td><td>0.002653311</td><td>s</td></tr>\n",
       "\t<tr><th scope=row>2</th><td>100001</td><td> 160.937</td><td> 68.768</td><td>103.235</td><td> 48.146</td><td>-999.000</td><td>-999.000</td><td>-999.000</td><td>3.473</td><td> 2.078</td><td>...</td><td>1</td><td>  46.226</td><td>   0.725</td><td>   1.158</td><td>-999.000</td><td>-999.000</td><td>-999.000</td><td> 46.226</td><td>2.233584487</td><td>b</td></tr>\n",
       "\t<tr><th scope=row>3</th><td>100002</td><td>-999.000</td><td>162.172</td><td>125.953</td><td> 35.635</td><td>-999.000</td><td>-999.000</td><td>-999.000</td><td>3.148</td><td> 9.336</td><td>...</td><td>1</td><td>  44.251</td><td>   2.053</td><td>  -2.028</td><td>-999.000</td><td>-999.000</td><td>-999.000</td><td> 44.251</td><td>2.347388944</td><td>b</td></tr>\n",
       "\t<tr><th scope=row>4</th><td>100003</td><td> 143.905</td><td> 81.417</td><td> 80.943</td><td>  0.414</td><td>-999.000</td><td>-999.000</td><td>-999.000</td><td>3.310</td><td> 0.414</td><td>...</td><td>0</td><td>-999.000</td><td>-999.000</td><td>-999.000</td><td>-999.000</td><td>-999.000</td><td>-999.000</td><td>  0.000</td><td>5.446378212</td><td>b</td></tr>\n",
       "\t<tr><th scope=row>5</th><td>100004</td><td> 175.864</td><td> 16.915</td><td>134.805</td><td> 16.405</td><td>-999.000</td><td>-999.000</td><td>-999.000</td><td>3.891</td><td>16.405</td><td>...</td><td>0</td><td>-999.000</td><td>-999.000</td><td>-999.000</td><td>-999.000</td><td>-999.000</td><td>-999.000</td><td>  0.000</td><td>6.245332687</td><td>b</td></tr>\n",
       "\t<tr><th scope=row>6</th><td>100005</td><td>  89.744</td><td> 13.550</td><td> 59.149</td><td>116.344</td><td>   2.636</td><td> 284.584</td><td>  -0.540</td><td>1.362</td><td>61.619</td><td>...</td><td>3</td><td>  90.547</td><td>  -2.412</td><td>  -0.653</td><td>  56.165</td><td>   0.224</td><td>   3.106</td><td>193.660</td><td>0.083414031</td><td>b</td></tr>\n",
       "</tbody>\n",
       "</table>\n"
      ],
      "text/latex": [
       "A data.frame: 6 × 33\n",
       "\\begin{tabular}{r|lllllllllllllllllllll}\n",
       "  & EventId & DER\\_mass\\_MMC & DER\\_mass\\_transverse\\_met\\_lep & DER\\_mass\\_vis & DER\\_pt\\_h & DER\\_deltaeta\\_jet\\_jet & DER\\_mass\\_jet\\_jet & DER\\_prodeta\\_jet\\_jet & DER\\_deltar\\_tau\\_lep & DER\\_pt\\_tot & ... & PRI\\_jet\\_num & PRI\\_jet\\_leading\\_pt & PRI\\_jet\\_leading\\_eta & PRI\\_jet\\_leading\\_phi & PRI\\_jet\\_subleading\\_pt & PRI\\_jet\\_subleading\\_eta & PRI\\_jet\\_subleading\\_phi & PRI\\_jet\\_all\\_pt & Weight & Label\\\\\n",
       "  & <int> & <dbl> & <dbl> & <dbl> & <dbl> & <dbl> & <dbl> & <dbl> & <dbl> & <dbl> & ... & <int> & <dbl> & <dbl> & <dbl> & <dbl> & <dbl> & <dbl> & <dbl> & <dbl> & <fct>\\\\\n",
       "\\hline\n",
       "\t1 & 100000 &  138.470 &  51.655 &  97.827 &  27.980 &    0.910 &  124.711 &    2.666 & 3.064 & 41.928 & ... & 2 &   67.435 &    2.150 &    0.444 &   46.062 &    1.240 &   -2.475 & 113.497 & 0.002653311 & s\\\\\n",
       "\t2 & 100001 &  160.937 &  68.768 & 103.235 &  48.146 & -999.000 & -999.000 & -999.000 & 3.473 &  2.078 & ... & 1 &   46.226 &    0.725 &    1.158 & -999.000 & -999.000 & -999.000 &  46.226 & 2.233584487 & b\\\\\n",
       "\t3 & 100002 & -999.000 & 162.172 & 125.953 &  35.635 & -999.000 & -999.000 & -999.000 & 3.148 &  9.336 & ... & 1 &   44.251 &    2.053 &   -2.028 & -999.000 & -999.000 & -999.000 &  44.251 & 2.347388944 & b\\\\\n",
       "\t4 & 100003 &  143.905 &  81.417 &  80.943 &   0.414 & -999.000 & -999.000 & -999.000 & 3.310 &  0.414 & ... & 0 & -999.000 & -999.000 & -999.000 & -999.000 & -999.000 & -999.000 &   0.000 & 5.446378212 & b\\\\\n",
       "\t5 & 100004 &  175.864 &  16.915 & 134.805 &  16.405 & -999.000 & -999.000 & -999.000 & 3.891 & 16.405 & ... & 0 & -999.000 & -999.000 & -999.000 & -999.000 & -999.000 & -999.000 &   0.000 & 6.245332687 & b\\\\\n",
       "\t6 & 100005 &   89.744 &  13.550 &  59.149 & 116.344 &    2.636 &  284.584 &   -0.540 & 1.362 & 61.619 & ... & 3 &   90.547 &   -2.412 &   -0.653 &   56.165 &    0.224 &    3.106 & 193.660 & 0.083414031 & b\\\\\n",
       "\\end{tabular}\n"
      ],
      "text/markdown": [
       "\n",
       "A data.frame: 6 × 33\n",
       "\n",
       "| <!--/--> | EventId &lt;int&gt; | DER_mass_MMC &lt;dbl&gt; | DER_mass_transverse_met_lep &lt;dbl&gt; | DER_mass_vis &lt;dbl&gt; | DER_pt_h &lt;dbl&gt; | DER_deltaeta_jet_jet &lt;dbl&gt; | DER_mass_jet_jet &lt;dbl&gt; | DER_prodeta_jet_jet &lt;dbl&gt; | DER_deltar_tau_lep &lt;dbl&gt; | DER_pt_tot &lt;dbl&gt; | ... ... | PRI_jet_num &lt;int&gt; | PRI_jet_leading_pt &lt;dbl&gt; | PRI_jet_leading_eta &lt;dbl&gt; | PRI_jet_leading_phi &lt;dbl&gt; | PRI_jet_subleading_pt &lt;dbl&gt; | PRI_jet_subleading_eta &lt;dbl&gt; | PRI_jet_subleading_phi &lt;dbl&gt; | PRI_jet_all_pt &lt;dbl&gt; | Weight &lt;dbl&gt; | Label &lt;fct&gt; |\n",
       "|---|---|---|---|---|---|---|---|---|---|---|---|---|---|---|---|---|---|---|---|---|---|\n",
       "| 1 | 100000 |  138.470 |  51.655 |  97.827 |  27.980 |    0.910 |  124.711 |    2.666 | 3.064 | 41.928 | ... | 2 |   67.435 |    2.150 |    0.444 |   46.062 |    1.240 |   -2.475 | 113.497 | 0.002653311 | s |\n",
       "| 2 | 100001 |  160.937 |  68.768 | 103.235 |  48.146 | -999.000 | -999.000 | -999.000 | 3.473 |  2.078 | ... | 1 |   46.226 |    0.725 |    1.158 | -999.000 | -999.000 | -999.000 |  46.226 | 2.233584487 | b |\n",
       "| 3 | 100002 | -999.000 | 162.172 | 125.953 |  35.635 | -999.000 | -999.000 | -999.000 | 3.148 |  9.336 | ... | 1 |   44.251 |    2.053 |   -2.028 | -999.000 | -999.000 | -999.000 |  44.251 | 2.347388944 | b |\n",
       "| 4 | 100003 |  143.905 |  81.417 |  80.943 |   0.414 | -999.000 | -999.000 | -999.000 | 3.310 |  0.414 | ... | 0 | -999.000 | -999.000 | -999.000 | -999.000 | -999.000 | -999.000 |   0.000 | 5.446378212 | b |\n",
       "| 5 | 100004 |  175.864 |  16.915 | 134.805 |  16.405 | -999.000 | -999.000 | -999.000 | 3.891 | 16.405 | ... | 0 | -999.000 | -999.000 | -999.000 | -999.000 | -999.000 | -999.000 |   0.000 | 6.245332687 | b |\n",
       "| 6 | 100005 |   89.744 |  13.550 |  59.149 | 116.344 |    2.636 |  284.584 |   -0.540 | 1.362 | 61.619 | ... | 3 |   90.547 |   -2.412 |   -0.653 |   56.165 |    0.224 |    3.106 | 193.660 | 0.083414031 | b |\n",
       "\n"
      ],
      "text/plain": [
       "  EventId DER_mass_MMC DER_mass_transverse_met_lep DER_mass_vis DER_pt_h\n",
       "1 100000   138.470      51.655                      97.827       27.980 \n",
       "2 100001   160.937      68.768                     103.235       48.146 \n",
       "3 100002  -999.000     162.172                     125.953       35.635 \n",
       "4 100003   143.905      81.417                      80.943        0.414 \n",
       "5 100004   175.864      16.915                     134.805       16.405 \n",
       "6 100005    89.744      13.550                      59.149      116.344 \n",
       "  DER_deltaeta_jet_jet DER_mass_jet_jet DER_prodeta_jet_jet DER_deltar_tau_lep\n",
       "1    0.910              124.711            2.666            3.064             \n",
       "2 -999.000             -999.000         -999.000            3.473             \n",
       "3 -999.000             -999.000         -999.000            3.148             \n",
       "4 -999.000             -999.000         -999.000            3.310             \n",
       "5 -999.000             -999.000         -999.000            3.891             \n",
       "6    2.636              284.584           -0.540            1.362             \n",
       "  DER_pt_tot ... PRI_jet_num PRI_jet_leading_pt PRI_jet_leading_eta\n",
       "1 41.928     ... 2             67.435              2.150           \n",
       "2  2.078     ... 1             46.226              0.725           \n",
       "3  9.336     ... 1             44.251              2.053           \n",
       "4  0.414     ... 0           -999.000           -999.000           \n",
       "5 16.405     ... 0           -999.000           -999.000           \n",
       "6 61.619     ... 3             90.547             -2.412           \n",
       "  PRI_jet_leading_phi PRI_jet_subleading_pt PRI_jet_subleading_eta\n",
       "1    0.444              46.062                 1.240              \n",
       "2    1.158            -999.000              -999.000              \n",
       "3   -2.028            -999.000              -999.000              \n",
       "4 -999.000            -999.000              -999.000              \n",
       "5 -999.000            -999.000              -999.000              \n",
       "6   -0.653              56.165                 0.224              \n",
       "  PRI_jet_subleading_phi PRI_jet_all_pt Weight      Label\n",
       "1   -2.475               113.497        0.002653311 s    \n",
       "2 -999.000                46.226        2.233584487 b    \n",
       "3 -999.000                44.251        2.347388944 b    \n",
       "4 -999.000                 0.000        5.446378212 b    \n",
       "5 -999.000                 0.000        6.245332687 b    \n",
       "6    3.106               193.660        0.083414031 b    "
      ]
     },
     "metadata": {},
     "output_type": "display_data"
    }
   ],
   "source": [
    "# Carregar dataset\n",
    "dtrain = read.csv(\"data/training.csv\", header = TRUE)\n",
    "head(dtrain)"
   ]
  },
  {
   "cell_type": "markdown",
   "metadata": {},
   "source": [
    "### **Criação do modelo**"
   ]
  },
  {
   "cell_type": "code",
   "execution_count": 113,
   "metadata": {},
   "outputs": [
    {
     "name": "stdout",
     "output_type": "stream",
     "text": [
      "Class 'xgb.DMatrix' <externalptr> \n",
      " - attr(*, \".Dimnames\")=List of 2\n",
      "  ..$ : NULL\n",
      "  ..$ : chr [1:30] \"DER_mass_MMC\" \"DER_mass_transverse_met_lep\" \"DER_mass_vis\" \"DER_pt_h\" ...\n"
     ]
    }
   ],
   "source": [
    "# Mudar a variável target de character para 1 ou 0 (binário)\n",
    "dtrain[33] = dtrain[33] == \"s\"\n",
    "\n",
    "# Criar um dataframe só com os labels\n",
    "label = as.numeric(dtrain[[33]])\n",
    "\n",
    "# Colocar todos os outros dados no dataset data\n",
    "data = as.matrix(dtrain[2:31])\n",
    "\n",
    "# Mudança feita por razões da competição\n",
    "testsize = 550000\n",
    "weight = as.numeric(dtrain[[32]]) * testsize / length(label)\n",
    "sumwpos = sum(weight * (label == 1.0))\n",
    "sumwneg = sum(weight * (label == 0.0))\n",
    "\n",
    "# Construção de uma matrix (os valores missing estão marcados com -999 no dataframe)\n",
    "xgmat = xgb.DMatrix(data, label = label, weight = weight, missing = -999.0)\n",
    "\n",
    "# Visualização dos dados\n",
    "str(xgmat)"
   ]
  },
  {
   "cell_type": "code",
   "execution_count": null,
   "metadata": {},
   "outputs": [],
   "source": [
    "# Set dos parametros\n",
    "param = list(\"objective\" = \"binary:logitraw\",\n",
    "            \"scale_pos_weight\" = sumwneg/sumwpos,\n",
    "            \"bst:eta\" = 0.1,\n",
    "            \"bst:max_depth\" = 6,\n",
    "             \"eval_metric\" = \"auc\",\n",
    "             \"eval_metric\" = \"ams@0.15\",\n",
    "             \"silent\" = 1,\n",
    "             \"nthread\" = 16)\n",
    "\n",
    "# Criação do modelo\n",
    "bst = xgboost(params = param, data = xgmat, nround = 120)"
   ]
  },
  {
   "cell_type": "markdown",
   "metadata": {},
   "source": [
    "### **Aplicação do modelo**"
   ]
  },
  {
   "cell_type": "code",
   "execution_count": 121,
   "metadata": {},
   "outputs": [
    {
     "data": {
      "text/html": [
       "<table>\n",
       "<caption>A data.frame: 6 × 3</caption>\n",
       "<thead>\n",
       "\t<tr><th></th><th scope=col>EventId</th><th scope=col>RankOrder</th><th scope=col>Class</th></tr>\n",
       "\t<tr><th></th><th scope=col>&lt;int&gt;</th><th scope=col>&lt;int&gt;</th><th scope=col>&lt;fct&gt;</th></tr>\n",
       "</thead>\n",
       "<tbody>\n",
       "\t<tr><th scope=row>1</th><td>350000</td><td> 16705</td><td>b</td></tr>\n",
       "\t<tr><th scope=row>2</th><td>350001</td><td>216737</td><td>b</td></tr>\n",
       "\t<tr><th scope=row>3</th><td>350002</td><td>348612</td><td>b</td></tr>\n",
       "\t<tr><th scope=row>4</th><td>350003</td><td>486482</td><td>s</td></tr>\n",
       "\t<tr><th scope=row>5</th><td>350004</td><td>134241</td><td>b</td></tr>\n",
       "\t<tr><th scope=row>6</th><td>350005</td><td>184578</td><td>b</td></tr>\n",
       "</tbody>\n",
       "</table>\n"
      ],
      "text/latex": [
       "A data.frame: 6 × 3\n",
       "\\begin{tabular}{r|lll}\n",
       "  & EventId & RankOrder & Class\\\\\n",
       "  & <int> & <int> & <fct>\\\\\n",
       "\\hline\n",
       "\t1 & 350000 &  16705 & b\\\\\n",
       "\t2 & 350001 & 216737 & b\\\\\n",
       "\t3 & 350002 & 348612 & b\\\\\n",
       "\t4 & 350003 & 486482 & s\\\\\n",
       "\t5 & 350004 & 134241 & b\\\\\n",
       "\t6 & 350005 & 184578 & b\\\\\n",
       "\\end{tabular}\n"
      ],
      "text/markdown": [
       "\n",
       "A data.frame: 6 × 3\n",
       "\n",
       "| <!--/--> | EventId &lt;int&gt; | RankOrder &lt;int&gt; | Class &lt;fct&gt; |\n",
       "|---|---|---|---|\n",
       "| 1 | 350000 |  16705 | b |\n",
       "| 2 | 350001 | 216737 | b |\n",
       "| 3 | 350002 | 348612 | b |\n",
       "| 4 | 350003 | 486482 | s |\n",
       "| 5 | 350004 | 134241 | b |\n",
       "| 6 | 350005 | 184578 | b |\n",
       "\n"
      ],
      "text/plain": [
       "  EventId RankOrder Class\n",
       "1 350000   16705    b    \n",
       "2 350001  216737    b    \n",
       "3 350002  348612    b    \n",
       "4 350003  486482    s    \n",
       "5 350004  134241    b    \n",
       "6 350005  184578    b    "
      ]
     },
     "metadata": {},
     "output_type": "display_data"
    }
   ],
   "source": [
    "# Dados para teste\n",
    "dtest = read.csv(\"data/test.csv\", header = TRUE)\n",
    "data = as.matrix(dtest[2:31])\n",
    "\n",
    "# Construção da matriz legível para o algorítimo\n",
    "xgmat = xgb.DMatrix(data, missing = -999.0)\n",
    "\n",
    "# Aplicação do modelo nos dados\n",
    "ypred = predict(bst, xgmat)\n",
    "\n",
    "# Formatação da tabela de saída\n",
    "idx = dtest[[1]]\n",
    "rorder = rank(ypred, ties.method = \"first\" )\n",
    "threshold = 0.15\n",
    "ntop = length(rorder) - as.integer(threshold * length(rorder))\n",
    "plabel = ifelse(rorder > ntop, \"s\", \"b\")\n",
    "outdata = list(\"EventId\" = idx,\n",
    "              \"RankOrder\" = rorder,\n",
    "               \"Class\" = plabel)\n",
    "\n",
    "# Salvar dados em csv\n",
    "write.csv(outdata, file = \"./data/submission.csv\", quote=FALSE, row.names = FALSE)\n",
    "\n",
    "# Visualização dos dados\n",
    "dados = as.data.frame(outdata)\n",
    "head(dados)"
   ]
  }
 ],
 "metadata": {
  "kernelspec": {
   "display_name": "R",
   "language": "R",
   "name": "ir"
  },
  "language_info": {
   "codemirror_mode": "r",
   "file_extension": ".r",
   "mimetype": "text/x-r-source",
   "name": "R",
   "pygments_lexer": "r",
   "version": "3.6.3"
  }
 },
 "nbformat": 4,
 "nbformat_minor": 4
}
