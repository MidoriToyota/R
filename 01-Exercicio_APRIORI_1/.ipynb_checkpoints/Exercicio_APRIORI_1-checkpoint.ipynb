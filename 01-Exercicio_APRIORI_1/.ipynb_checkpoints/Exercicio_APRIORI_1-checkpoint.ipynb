{
 "cells": [
  {
   "cell_type": "markdown",
   "metadata": {
    "colab_type": "text",
    "id": "0j2QlRORihRz"
   },
   "source": [
    "# **Market Basket Analysis - Exercício 1**\n",
    "\n",
    "---\n",
    "\n",
    "<a href=\"https://midoritoyota.netlify.app/\" target=\"_blank\"><img align=\"left\" src=\"./images/portfolio.png\" title=\"See my portfolio!\"/></a><img align=\"left\" src=\"./images/espaco.png\"/>\n",
    "\n",
    "<a href=\"mailto:midori.toyota@gmail.com\" target=\"_blank\"><img align=\"left\" src=\"./images/gmail.png\" title=\"Contact me!\"/></a><img align=\"left\" src=\"./images/espaco.png\"/>\n",
    "\n",
    "<a href=\"https://www.linkedin.com/in/midoritoyota/\" target=\"_blank\"> <img align=\"left\" src=\"./images/linkedin.png\" title=\"Add me on linkedin!\" /></a><img align=\"left\" src=\"./images/espaco.png\"/>\n",
    "\n",
    "<a href=\"https://github.com/MidoriToyota\" target=\"_blank\"> <img align=\"left\" src=\"./images/github.png\" title=\"Follow me on github!\"/></a>\n",
    "\n",
    "<br/><br/>\n",
    "\n",
    "\n",
    "Para fazer o projeto de conclusão de curso de Business Analytics da **Data Science Academy (DSA)** preciso entender como funciona o pacote APRIORI para fazer recomendações de compras para uma base de clientes. Para isso, encontrei 2 artigos com o passo a passo da utilização do algorítimo. Nesse primeiro exercício vou reproduzir o problema resolvido por **Rizka Yolanda** no seguinte artigo:\n",
    "\n",
    "https://medium.com/@yolandawiyono98/market-basket-analysis-with-r-8001417a8e29\n",
    "\n",
    "O artigo do **Jie Wang** foi base para compreensão dos objetos da classe transaction:\n",
    "\n",
    "https://www.jdatalab.com/data_science_and_data_mining/2018/10/10/association-rule-transactions-class.html\n",
    "\n",
    "## **Pacotes**\n",
    "\n",
    "Utilizarei o pacole arules, que cria as regras segundo o algorítimo APRIORI, o pacote arulesViz, que permite a visualização de objetos da classe transaction e o dataset Groceries, que já está no formato transaction e vem com o pacote arules."
   ]
  },
  {
   "cell_type": "code",
   "execution_count": 9,
   "metadata": {
    "colab": {},
    "colab_type": "code",
    "id": "naA10m1Git6x"
   },
   "outputs": [],
   "source": [
    "# Carregando os pacotes\n",
    "library(arules)\n",
    "library(arulesViz)\n",
    "library(datasets)\n",
    "library(ggplot2)\n",
    "library(repr)\n",
    " \n",
    "# Carregando o dataset do exemplo\n",
    "data(Groceries)"
   ]
  },
  {
   "cell_type": "markdown",
   "metadata": {
    "colab_type": "text",
    "id": "-sTPscU5l3pp"
   },
   "source": [
    "## **Análise exploratória** \n",
    "\n",
    "### **Entendendo dados da classe transaction**\n",
    "\n",
    "Como explicado no artigo do Jie Wang abaixo. O pacote APRIORI lê um tipo diferente de arquivo. O arquivo é da classe *transactions*, e não dá para visualizar com head, pois não é um dataframe, nem uma lista. O arquivo se assemelha à uma lista de dataframes.\n",
    "\n",
    "**Comando inspect**\n",
    "\n",
    "O comando `inspect` pertence ao pacote arulesViz e é uma forma de visualizar o conteúdo de um objeto da classe transaction. Abaixo, vemos a aplicação do comando `inspect`, que mostra um índice identificador da ordem de compra e dentro de cada ordem de compra há uma lista de itens comprados, como se fossem os itens de um cupom fiscal."
   ]
  },
  {
   "cell_type": "code",
   "execution_count": 2,
   "metadata": {
    "colab": {
     "base_uri": "https://localhost:8080/",
     "height": 170
    },
    "colab_type": "code",
    "id": "u2o8csiTrHoY",
    "outputId": "86e80eb6-c29f-4396-c10c-4f70f6f58f10"
   },
   "outputs": [
    {
     "name": "stdout",
     "output_type": "stream",
     "text": [
      "    items                \n",
      "[1] {citrus fruit,       \n",
      "     semi-finished bread,\n",
      "     margarine,          \n",
      "     ready soups}        \n",
      "[2] {tropical fruit,     \n",
      "     yogurt,             \n",
      "     coffee}             \n",
      "[3] {whole milk}         \n"
     ]
    }
   ],
   "source": [
    "# Ver o conteúdo do dataset Groceries, objeto da classe \"Transactions\"\n",
    "inspect(head(Groceries, 3))"
   ]
  },
  {
   "cell_type": "markdown",
   "metadata": {
    "colab_type": "text",
    "id": "Pc1amRaqw8t-"
   },
   "source": [
    "**Estrutura da classe transaction**\n",
    "\n",
    "Como explicado por Jie Wang, o objeto da classe transaction é dividido em 3 componentes `@data`, `@itemInfo` e `@itemsetInfo`:\n",
    "\n",
    "- O `@itemsetInfo` é uma dataframe vazio que só será preenchido quando rodarmos a função apriori\n",
    "- O `@itemInfo` é um dataframe com 3 colunas: labels (que tem o nome de cada produto), level1 (que mostra um tipo de categorização dos produtos) e level2 (que mostra um tipo de subcategorização dos produtos)\n",
    "- O `@data` é uma matriz que contém 2 listas: Groceries@data@i (lista completa dos itens comprados do primeiro ao último cliente) e Groceries@data@p (lista com os índices que dividem uma compra de outra)."
   ]
  },
  {
   "cell_type": "code",
   "execution_count": 3,
   "metadata": {
    "colab": {
     "base_uri": "https://localhost:8080/",
     "height": 255
    },
    "colab_type": "code",
    "id": "vddd8ZYBpDYI",
    "outputId": "3407532e-bf76-43b1-bd9b-604a6571a2bb"
   },
   "outputs": [
    {
     "name": "stdout",
     "output_type": "stream",
     "text": [
      "Formal class 'transactions' [package \"arules\"] with 3 slots\n",
      "  ..@ data       :Formal class 'ngCMatrix' [package \"Matrix\"] with 5 slots\n",
      "  .. .. ..@ i       : int [1:43367] 13 60 69 78 14 29 98 24 15 29 ...\n",
      "  .. .. ..@ p       : int [1:9836] 0 4 7 8 12 16 21 22 27 28 ...\n",
      "  .. .. ..@ Dim     : int [1:2] 169 9835\n",
      "  .. .. ..@ Dimnames:List of 2\n",
      "  .. .. .. ..$ : NULL\n",
      "  .. .. .. ..$ : NULL\n",
      "  .. .. ..@ factors : list()\n",
      "  ..@ itemInfo   :'data.frame':\t169 obs. of  3 variables:\n",
      "  .. ..$ labels: chr [1:169] \"frankfurter\" \"sausage\" \"liver loaf\" \"ham\" ...\n",
      "  .. ..$ level2: Factor w/ 55 levels \"baby food\",\"bags\",..: 44 44 44 44 44 44 44 42 42 41 ...\n",
      "  .. ..$ level1: Factor w/ 10 levels \"canned food\",..: 6 6 6 6 6 6 6 6 6 6 ...\n",
      "  ..@ itemsetInfo:'data.frame':\t0 obs. of  0 variables\n"
     ]
    }
   ],
   "source": [
    "# Estrutura do dataset\n",
    "str(Groceries)"
   ]
  },
  {
   "cell_type": "code",
   "execution_count": 5,
   "metadata": {
    "colab": {
     "base_uri": "https://localhost:8080/",
     "height": 102
    },
    "colab_type": "code",
    "id": "dR7DFhA5rrDV",
    "outputId": "ff57ae71-f21d-455c-bccb-3b7a86bd4e5c"
   },
   "outputs": [
    {
     "data": {
      "text/html": [
       "<style>\n",
       ".list-inline {list-style: none; margin:0; padding: 0}\n",
       ".list-inline>li {display: inline-block}\n",
       ".list-inline>li:not(:last-child)::after {content: \"\\00b7\"; padding: 0 .5ex}\n",
       "</style>\n",
       "<ol class=list-inline><li>'frankfurter'</li><li>'sausage'</li><li>'liver loaf'</li><li>'ham'</li><li>'meat'</li></ol>\n"
      ],
      "text/latex": [
       "\\begin{enumerate*}\n",
       "\\item 'frankfurter'\n",
       "\\item 'sausage'\n",
       "\\item 'liver loaf'\n",
       "\\item 'ham'\n",
       "\\item 'meat'\n",
       "\\end{enumerate*}\n"
      ],
      "text/markdown": [
       "1. 'frankfurter'\n",
       "2. 'sausage'\n",
       "3. 'liver loaf'\n",
       "4. 'ham'\n",
       "5. 'meat'\n",
       "\n",
       "\n"
      ],
      "text/plain": [
       "[1] \"frankfurter\" \"sausage\"     \"liver loaf\"  \"ham\"         \"meat\"       "
      ]
     },
     "metadata": {},
     "output_type": "display_data"
    },
    {
     "data": {
      "text/html": [
       "<style>\n",
       ".list-inline {list-style: none; margin:0; padding: 0}\n",
       ".list-inline>li {display: inline-block}\n",
       ".list-inline>li:not(:last-child)::after {content: \"\\00b7\"; padding: 0 .5ex}\n",
       "</style>\n",
       "<ol class=list-inline><li>meat and sausage</li><li>meat and sausage</li><li>meat and sausage</li><li>meat and sausage</li><li>meat and sausage</li></ol>\n",
       "\n",
       "<details>\n",
       "\t<summary style=display:list-item;cursor:pointer>\n",
       "\t\t<strong>Levels</strong>:\n",
       "\t</summary>\n",
       "\t<style>\n",
       "\t.list-inline {list-style: none; margin:0; padding: 0}\n",
       "\t.list-inline>li {display: inline-block}\n",
       "\t.list-inline>li:not(:last-child)::after {content: \"\\00b7\"; padding: 0 .5ex}\n",
       "\t</style>\n",
       "\t<ol class=list-inline><li>'canned food'</li><li>'detergent'</li><li>'drinks'</li><li>'fresh products'</li><li>'fruit and vegetables'</li><li>'meat and sausage'</li><li>'non-food'</li><li>'perfumery'</li><li>'processed food'</li><li>'snacks and candies'</li></ol>\n",
       "</details>"
      ],
      "text/latex": [
       "\\begin{enumerate*}\n",
       "\\item meat and sausage\n",
       "\\item meat and sausage\n",
       "\\item meat and sausage\n",
       "\\item meat and sausage\n",
       "\\item meat and sausage\n",
       "\\end{enumerate*}\n",
       "\n",
       "\\emph{Levels}: \\begin{enumerate*}\n",
       "\\item 'canned food'\n",
       "\\item 'detergent'\n",
       "\\item 'drinks'\n",
       "\\item 'fresh products'\n",
       "\\item 'fruit and vegetables'\n",
       "\\item 'meat and sausage'\n",
       "\\item 'non-food'\n",
       "\\item 'perfumery'\n",
       "\\item 'processed food'\n",
       "\\item 'snacks and candies'\n",
       "\\end{enumerate*}\n"
      ],
      "text/markdown": [
       "1. meat and sausage\n",
       "2. meat and sausage\n",
       "3. meat and sausage\n",
       "4. meat and sausage\n",
       "5. meat and sausage\n",
       "\n",
       "\n",
       "\n",
       "**Levels**: 1. 'canned food'\n",
       "2. 'detergent'\n",
       "3. 'drinks'\n",
       "4. 'fresh products'\n",
       "5. 'fruit and vegetables'\n",
       "6. 'meat and sausage'\n",
       "7. 'non-food'\n",
       "8. 'perfumery'\n",
       "9. 'processed food'\n",
       "10. 'snacks and candies'\n",
       "\n",
       "\n"
      ],
      "text/plain": [
       "[1] meat and sausage meat and sausage meat and sausage meat and sausage\n",
       "[5] meat and sausage\n",
       "10 Levels: canned food detergent drinks fresh products ... snacks and candies"
      ]
     },
     "metadata": {},
     "output_type": "display_data"
    },
    {
     "data": {
      "text/html": [
       "<style>\n",
       ".list-inline {list-style: none; margin:0; padding: 0}\n",
       ".list-inline>li {display: inline-block}\n",
       ".list-inline>li:not(:last-child)::after {content: \"\\00b7\"; padding: 0 .5ex}\n",
       "</style>\n",
       "<ol class=list-inline><li>sausage</li><li>sausage</li><li>sausage</li><li>sausage</li><li>sausage</li></ol>\n",
       "\n",
       "<details>\n",
       "\t<summary style=display:list-item;cursor:pointer>\n",
       "\t\t<strong>Levels</strong>:\n",
       "\t</summary>\n",
       "\t<style>\n",
       "\t.list-inline {list-style: none; margin:0; padding: 0}\n",
       "\t.list-inline>li {display: inline-block}\n",
       "\t.list-inline>li:not(:last-child)::after {content: \"\\00b7\"; padding: 0 .5ex}\n",
       "\t</style>\n",
       "\t<ol class=list-inline><li>'baby food'</li><li>'bags'</li><li>'bakery improver'</li><li>'bathroom cleaner'</li><li>'beef'</li><li>'beer'</li><li>'bread and backed goods'</li><li>'candy'</li><li>'canned fish'</li><li>'canned fruit/vegetables'</li><li>'cheese'</li><li>'chewing gum'</li><li>'chocolate'</li><li>'cleaner'</li><li>'coffee'</li><li>'condiments'</li><li>'cosmetics'</li><li>'dairy produce'</li><li>'delicatessen'</li><li>'dental care'</li><li>'detergent/softener'</li><li>'eggs'</li><li>'fish'</li><li>'frozen foods'</li><li>'fruit'</li><li>'games/books/hobby'</li><li>'garden'</li><li>'hair care'</li><li>'hard drinks'</li><li>'health food'</li><li>'jam/sweet spreads'</li><li>'long-life bakery products'</li><li>'meat spreads'</li><li>'non-alc. drinks'</li><li>'non-food house keeping products'</li><li>'non-food kitchen'</li><li>'packaged fruit/vegetables'</li><li>'perfumery'</li><li>'personal hygiene'</li><li>'pet food/care'</li><li>'pork'</li><li>'poultry'</li><li>'pudding powder'</li><li>'sausage'</li><li>'seasonal products'</li><li>'shelf-stable dairy'</li><li>'snacks'</li><li>'soap'</li><li>'soups/sauces'</li><li>'staple foods'</li><li>'sweetener'</li><li>'tea/cocoa drinks'</li><li>'vegetables'</li><li>'vinegar/oils'</li><li>'wine'</li></ol>\n",
       "</details>"
      ],
      "text/latex": [
       "\\begin{enumerate*}\n",
       "\\item sausage\n",
       "\\item sausage\n",
       "\\item sausage\n",
       "\\item sausage\n",
       "\\item sausage\n",
       "\\end{enumerate*}\n",
       "\n",
       "\\emph{Levels}: \\begin{enumerate*}\n",
       "\\item 'baby food'\n",
       "\\item 'bags'\n",
       "\\item 'bakery improver'\n",
       "\\item 'bathroom cleaner'\n",
       "\\item 'beef'\n",
       "\\item 'beer'\n",
       "\\item 'bread and backed goods'\n",
       "\\item 'candy'\n",
       "\\item 'canned fish'\n",
       "\\item 'canned fruit/vegetables'\n",
       "\\item 'cheese'\n",
       "\\item 'chewing gum'\n",
       "\\item 'chocolate'\n",
       "\\item 'cleaner'\n",
       "\\item 'coffee'\n",
       "\\item 'condiments'\n",
       "\\item 'cosmetics'\n",
       "\\item 'dairy produce'\n",
       "\\item 'delicatessen'\n",
       "\\item 'dental care'\n",
       "\\item 'detergent/softener'\n",
       "\\item 'eggs'\n",
       "\\item 'fish'\n",
       "\\item 'frozen foods'\n",
       "\\item 'fruit'\n",
       "\\item 'games/books/hobby'\n",
       "\\item 'garden'\n",
       "\\item 'hair care'\n",
       "\\item 'hard drinks'\n",
       "\\item 'health food'\n",
       "\\item 'jam/sweet spreads'\n",
       "\\item 'long-life bakery products'\n",
       "\\item 'meat spreads'\n",
       "\\item 'non-alc. drinks'\n",
       "\\item 'non-food house keeping products'\n",
       "\\item 'non-food kitchen'\n",
       "\\item 'packaged fruit/vegetables'\n",
       "\\item 'perfumery'\n",
       "\\item 'personal hygiene'\n",
       "\\item 'pet food/care'\n",
       "\\item 'pork'\n",
       "\\item 'poultry'\n",
       "\\item 'pudding powder'\n",
       "\\item 'sausage'\n",
       "\\item 'seasonal products'\n",
       "\\item 'shelf-stable dairy'\n",
       "\\item 'snacks'\n",
       "\\item 'soap'\n",
       "\\item 'soups/sauces'\n",
       "\\item 'staple foods'\n",
       "\\item 'sweetener'\n",
       "\\item 'tea/cocoa drinks'\n",
       "\\item 'vegetables'\n",
       "\\item 'vinegar/oils'\n",
       "\\item 'wine'\n",
       "\\end{enumerate*}\n"
      ],
      "text/markdown": [
       "1. sausage\n",
       "2. sausage\n",
       "3. sausage\n",
       "4. sausage\n",
       "5. sausage\n",
       "\n",
       "\n",
       "\n",
       "**Levels**: 1. 'baby food'\n",
       "2. 'bags'\n",
       "3. 'bakery improver'\n",
       "4. 'bathroom cleaner'\n",
       "5. 'beef'\n",
       "6. 'beer'\n",
       "7. 'bread and backed goods'\n",
       "8. 'candy'\n",
       "9. 'canned fish'\n",
       "10. 'canned fruit/vegetables'\n",
       "11. 'cheese'\n",
       "12. 'chewing gum'\n",
       "13. 'chocolate'\n",
       "14. 'cleaner'\n",
       "15. 'coffee'\n",
       "16. 'condiments'\n",
       "17. 'cosmetics'\n",
       "18. 'dairy produce'\n",
       "19. 'delicatessen'\n",
       "20. 'dental care'\n",
       "21. 'detergent/softener'\n",
       "22. 'eggs'\n",
       "23. 'fish'\n",
       "24. 'frozen foods'\n",
       "25. 'fruit'\n",
       "26. 'games/books/hobby'\n",
       "27. 'garden'\n",
       "28. 'hair care'\n",
       "29. 'hard drinks'\n",
       "30. 'health food'\n",
       "31. 'jam/sweet spreads'\n",
       "32. 'long-life bakery products'\n",
       "33. 'meat spreads'\n",
       "34. 'non-alc. drinks'\n",
       "35. 'non-food house keeping products'\n",
       "36. 'non-food kitchen'\n",
       "37. 'packaged fruit/vegetables'\n",
       "38. 'perfumery'\n",
       "39. 'personal hygiene'\n",
       "40. 'pet food/care'\n",
       "41. 'pork'\n",
       "42. 'poultry'\n",
       "43. 'pudding powder'\n",
       "44. 'sausage'\n",
       "45. 'seasonal products'\n",
       "46. 'shelf-stable dairy'\n",
       "47. 'snacks'\n",
       "48. 'soap'\n",
       "49. 'soups/sauces'\n",
       "50. 'staple foods'\n",
       "51. 'sweetener'\n",
       "52. 'tea/cocoa drinks'\n",
       "53. 'vegetables'\n",
       "54. 'vinegar/oils'\n",
       "55. 'wine'\n",
       "\n",
       "\n"
      ],
      "text/plain": [
       "[1] sausage sausage sausage sausage sausage\n",
       "55 Levels: baby food bags bakery improver bathroom cleaner beef ... wine"
      ]
     },
     "metadata": {},
     "output_type": "display_data"
    }
   ],
   "source": [
    "# Conteúdo do @itemInfo\n",
    "Groceries@itemInfo$labels[1:5]\n",
    "Groceries@itemInfo$level1[1:5]\n",
    "Groceries@itemInfo$level2[1:5]"
   ]
  },
  {
   "cell_type": "code",
   "execution_count": 6,
   "metadata": {
    "colab": {
     "base_uri": "https://localhost:8080/",
     "height": 51
    },
    "colab_type": "code",
    "id": "QTcJ8ma0182y",
    "outputId": "4cd808e3-7fce-4ed5-e050-655ce5af81da"
   },
   "outputs": [
    {
     "data": {
      "text/html": [
       "<style>\n",
       ".list-inline {list-style: none; margin:0; padding: 0}\n",
       ".list-inline>li {display: inline-block}\n",
       ".list-inline>li:not(:last-child)::after {content: \"\\00b7\"; padding: 0 .5ex}\n",
       "</style>\n",
       "<ol class=list-inline><li>13</li><li>60</li><li>69</li><li>78</li><li>14</li></ol>\n"
      ],
      "text/latex": [
       "\\begin{enumerate*}\n",
       "\\item 13\n",
       "\\item 60\n",
       "\\item 69\n",
       "\\item 78\n",
       "\\item 14\n",
       "\\end{enumerate*}\n"
      ],
      "text/markdown": [
       "1. 13\n",
       "2. 60\n",
       "3. 69\n",
       "4. 78\n",
       "5. 14\n",
       "\n",
       "\n"
      ],
      "text/plain": [
       "[1] 13 60 69 78 14"
      ]
     },
     "metadata": {},
     "output_type": "display_data"
    },
    {
     "data": {
      "text/html": [
       "<style>\n",
       ".list-inline {list-style: none; margin:0; padding: 0}\n",
       ".list-inline>li {display: inline-block}\n",
       ".list-inline>li:not(:last-child)::after {content: \"\\00b7\"; padding: 0 .5ex}\n",
       "</style>\n",
       "<ol class=list-inline><li>0</li><li>4</li><li>7</li><li>8</li><li>12</li></ol>\n"
      ],
      "text/latex": [
       "\\begin{enumerate*}\n",
       "\\item 0\n",
       "\\item 4\n",
       "\\item 7\n",
       "\\item 8\n",
       "\\item 12\n",
       "\\end{enumerate*}\n"
      ],
      "text/markdown": [
       "1. 0\n",
       "2. 4\n",
       "3. 7\n",
       "4. 8\n",
       "5. 12\n",
       "\n",
       "\n"
      ],
      "text/plain": [
       "[1]  0  4  7  8 12"
      ]
     },
     "metadata": {},
     "output_type": "display_data"
    }
   ],
   "source": [
    "# Conteúdo das listas do Groceries@data\n",
    "head(Groceries@data@i,5)\n",
    "head(Groceries@data@p,5)"
   ]
  },
  {
   "cell_type": "markdown",
   "metadata": {
    "colab_type": "text",
    "id": "5EeDViev5a5e"
   },
   "source": [
    "## **Interpretando resultados do da função `apriori`**\n",
    "\n",
    "### **Frequência de compra dos itens**\n"
   ]
  },
  {
   "cell_type": "code",
   "execution_count": 10,
   "metadata": {
    "colab": {
     "base_uri": "https://localhost:8080/",
     "height": 437
    },
    "colab_type": "code",
    "id": "aMnZg6T-lSI1",
    "outputId": "37608002-9384-4a04-c936-ece0dd04d065"
   },
   "outputs": [
    {
     "data": {
      "image/png": "[encoded data removed]",
      "text/plain": [
       "plot without title"
      ]
     },
     "metadata": {
      "image/png": {
       "height": 420,
       "width": 720
      },
      "text/plain": {
       "height": 420,
       "width": 720
      }
     },
     "output_type": "display_data"
    }
   ],
   "source": [
    "# Plot dos 20 itens mais frequentes (função do pacote arules)\n",
    "options(repr.plot.width=12, repr.plot.height=7)\n",
    "itemFrequencyPlot(Groceries,topN=20,type=\"absolute\")"
   ]
  },
  {
   "cell_type": "markdown",
   "metadata": {
    "colab_type": "text",
    "id": "iObAQDFx_Z7L"
   },
   "source": [
    "### **Aplicação básica do `apriori`**\n",
    "\n",
    "Resumo dos parâmetros:\n",
    "\n",
    "- `Support` (supp): é a porcentagem mínima que um item aparece na lista de compras, para ser considerado uma regra.\n",
    "- `Confidence` (conf): é a porcentagem mínima que um item aparece junto com outro item, para ser considerado uma regra.\n"
   ]
  },
  {
   "cell_type": "code",
   "execution_count": 11,
   "metadata": {
    "colab": {
     "base_uri": "https://localhost:8080/",
     "height": 374
    },
    "colab_type": "code",
    "id": "tW8cxGrZl_hI",
    "outputId": "5cfc0f5f-cd8a-4330-cc39-5c54183ce524"
   },
   "outputs": [
    {
     "name": "stdout",
     "output_type": "stream",
     "text": [
      "Apriori\n",
      "\n",
      "Parameter specification:\n",
      " confidence minval smax arem  aval originalSupport maxtime support minlen\n",
      "        0.8    0.1    1 none FALSE            TRUE       5   0.001      1\n",
      " maxlen target  ext\n",
      "     10  rules TRUE\n",
      "\n",
      "Algorithmic control:\n",
      " filter tree heap memopt load sort verbose\n",
      "    0.1 TRUE TRUE  FALSE TRUE    2    TRUE\n",
      "\n",
      "Absolute minimum support count: 9 \n",
      "\n",
      "set item appearances ...[0 item(s)] done [0.00s].\n",
      "set transactions ...[169 item(s), 9835 transaction(s)] done [0.03s].\n",
      "sorting and recoding items ... [157 item(s)] done [0.00s].\n",
      "creating transaction tree ... done [0.02s].\n",
      "checking subsets of size 1 2 3 4 5 6 done [0.00s].\n",
      "writing ... [410 rule(s)] done [0.01s].\n",
      "creating S4 object  ... done [0.00s].\n"
     ]
    }
   ],
   "source": [
    "# Definindo principais regras\n",
    "rules = apriori(Groceries, parameter = list(supp = 0.001, conf = 0.8))"
   ]
  },
  {
   "cell_type": "code",
   "execution_count": 12,
   "metadata": {
    "colab": {
     "base_uri": "https://localhost:8080/",
     "height": 221
    },
    "colab_type": "code",
    "id": "HGxykrhRnUsy",
    "outputId": "fa630417-88a0-4f15-ac47-2df6f1ee6014"
   },
   "outputs": [
    {
     "name": "stdout",
     "output_type": "stream",
     "text": [
      "    lhs                        rhs            support confidence coverage lift\n",
      "[1] {liquor,red/blush wine} => {bottled beer} 0.0019  0.90       0.0021   11.2\n",
      "[2] {curd,cereals}          => {whole milk}   0.0010  0.91       0.0011    3.6\n",
      "[3] {yogurt,cereals}        => {whole milk}   0.0017  0.81       0.0021    3.2\n",
      "[4] {butter,jam}            => {whole milk}   0.0010  0.83       0.0012    3.3\n",
      "[5] {soups,bottled beer}    => {whole milk}   0.0011  0.92       0.0012    3.6\n",
      "    count\n",
      "[1] 19   \n",
      "[2] 10   \n",
      "[3] 17   \n",
      "[4] 10   \n",
      "[5] 11   \n"
     ]
    }
   ],
   "source": [
    " # Mostrar as 5 primeiras regras\n",
    "options(digits=2)\n",
    "inspect(rules[1:5])"
   ]
  },
  {
   "cell_type": "markdown",
   "metadata": {
    "colab_type": "text",
    "id": "1cOD0o9D8-Wk"
   },
   "source": [
    "Observando o item 1, por exemplo, temos que 90% (`confidence` = 0.90) das pessoas que compram liquor ou vinho provavelmente irão comprar cerveja também. e temos que aproximadamente 0,19% (`support` = 0.0019) das compras contém liquor ou vinho.\n",
    "\n",
    "Com o comando `summary` vemos que foram geradas 410 regras. A maior parte são regras de 4 itens."
   ]
  },
  {
   "cell_type": "code",
   "execution_count": 13,
   "metadata": {
    "colab": {
     "base_uri": "https://localhost:8080/",
     "height": 493
    },
    "colab_type": "code",
    "id": "RvcZqhp99nYc",
    "outputId": "fbc292d9-f99d-445d-cc74-6c450d3cf289"
   },
   "outputs": [
    {
     "data": {
      "text/plain": [
       "set of 410 rules\n",
       "\n",
       "rule length distribution (lhs + rhs):sizes\n",
       "  3   4   5   6 \n",
       " 29 229 140  12 \n",
       "\n",
       "   Min. 1st Qu.  Median    Mean 3rd Qu.    Max. \n",
       "    3.0     4.0     4.0     4.3     5.0     6.0 \n",
       "\n",
       "summary of quality measures:\n",
       "    support          confidence      coverage           lift     \n",
       " Min.   :0.00102   Min.   :0.80   Min.   :0.0010   Min.   : 3.1  \n",
       " 1st Qu.:0.00102   1st Qu.:0.83   1st Qu.:0.0012   1st Qu.: 3.3  \n",
       " Median :0.00122   Median :0.85   Median :0.0013   Median : 3.6  \n",
       " Mean   :0.00125   Mean   :0.87   Mean   :0.0014   Mean   : 4.0  \n",
       " 3rd Qu.:0.00132   3rd Qu.:0.91   3rd Qu.:0.0016   3rd Qu.: 4.3  \n",
       " Max.   :0.00315   Max.   :1.00   Max.   :0.0036   Max.   :11.2  \n",
       "     count     \n",
       " Min.   :10.0  \n",
       " 1st Qu.:10.0  \n",
       " Median :12.0  \n",
       " Mean   :12.3  \n",
       " 3rd Qu.:13.0  \n",
       " Max.   :31.0  \n",
       "\n",
       "mining info:\n",
       "      data ntransactions support confidence\n",
       " Groceries          9835   0.001        0.8"
      ]
     },
     "metadata": {},
     "output_type": "display_data"
    }
   ],
   "source": [
    "# Resumo das regras\n",
    "summary(rules)"
   ]
  },
  {
   "cell_type": "markdown",
   "metadata": {
    "colab_type": "text",
    "id": "OUTx_u1u_hV6"
   },
   "source": [
    "### **Ordenação dos resultados por ordem de relevância**\n",
    "\n",
    "Os resultados acima não estavam ordenados, vamos ordenar por ordem de `confidence`."
   ]
  },
  {
   "cell_type": "code",
   "execution_count": 14,
   "metadata": {
    "colab": {
     "base_uri": "https://localhost:8080/",
     "height": 255
    },
    "colab_type": "code",
    "id": "oMt0KRYG-ZYU",
    "outputId": "3f25a5ab-10ca-4365-a782-5c181cc4eadc"
   },
   "outputs": [
    {
     "name": "stdout",
     "output_type": "stream",
     "text": [
      "    lhs                     rhs          support confidence coverage lift count\n",
      "[1] {rice,                                                                     \n",
      "     sugar}              => {whole milk}  0.0012          1   0.0012  3.9    12\n",
      "[2] {canned fish,                                                              \n",
      "     hygiene articles}   => {whole milk}  0.0011          1   0.0011  3.9    11\n",
      "[3] {root vegetables,                                                          \n",
      "     butter,                                                                   \n",
      "     rice}               => {whole milk}  0.0010          1   0.0010  3.9    10\n",
      "[4] {root vegetables,                                                          \n",
      "     whipped/sour cream,                                                       \n",
      "     flour}              => {whole milk}  0.0017          1   0.0017  3.9    17\n",
      "[5] {butter,                                                                   \n",
      "     soft cheese,                                                              \n",
      "     domestic eggs}      => {whole milk}  0.0010          1   0.0010  3.9    10\n"
     ]
    }
   ],
   "source": [
    "# 5 primeiras regras em ordem de relevância\n",
    "rules = sort(rules, by=\"confidence\", decreasing=TRUE)\n",
    "inspect(rules[1:5])"
   ]
  },
  {
   "cell_type": "markdown",
   "metadata": {
    "colab_type": "text",
    "id": "Bqc7I4FmAA7c"
   },
   "source": [
    "### **Remoção de regras longas**\n",
    "\n",
    "Para não criarmos regras muito longas, podemos limitar `maxlen`, ou colocar um valor mínimo com `minlen`."
   ]
  },
  {
   "cell_type": "code",
   "execution_count": 15,
   "metadata": {
    "colab": {
     "base_uri": "https://localhost:8080/",
     "height": 595
    },
    "colab_type": "code",
    "id": "msWvNV2xAEbZ",
    "outputId": "e16be441-5cd8-48a1-9e0b-ae3228aec206"
   },
   "outputs": [
    {
     "name": "stdout",
     "output_type": "stream",
     "text": [
      "Apriori\n",
      "\n",
      "Parameter specification:\n",
      " confidence minval smax arem  aval originalSupport maxtime support minlen\n",
      "        0.8    0.1    1 none FALSE            TRUE       5   0.001      1\n",
      " maxlen target  ext\n",
      "      3  rules TRUE\n",
      "\n",
      "Algorithmic control:\n",
      " filter tree heap memopt load sort verbose\n",
      "    0.1 TRUE TRUE  FALSE TRUE    2    TRUE\n",
      "\n",
      "Absolute minimum support count: 9 \n",
      "\n",
      "set item appearances ...[0 item(s)] done [0.00s].\n",
      "set transactions ...[169 item(s), 9835 transaction(s)] done [0.00s].\n",
      "sorting and recoding items ... [157 item(s)] done [0.00s].\n",
      "creating transaction tree ... done [0.00s].\n",
      "checking subsets of size 1 2 3"
     ]
    },
    {
     "name": "stderr",
     "output_type": "stream",
     "text": [
      "Warning message in apriori(Groceries, parameter = list(supp = 0.001, conf = 0.8, :\n",
      "\"Mining stopped (maxlen reached). Only patterns up to a length of 3 returned!\"\n"
     ]
    },
    {
     "name": "stdout",
     "output_type": "stream",
     "text": [
      " done [0.01s].\n",
      "writing ... [29 rule(s)] done [0.00s].\n",
      "creating S4 object  ... done [0.00s].\n",
      "    lhs                         rhs          support confidence coverage lift count\n",
      "[1] {rice,                                                                         \n",
      "     sugar}                  => {whole milk}  0.0012       1.00   0.0012  3.9    12\n",
      "[2] {canned fish,                                                                  \n",
      "     hygiene articles}       => {whole milk}  0.0011       1.00   0.0011  3.9    11\n",
      "[3] {whipped/sour cream,                                                           \n",
      "     house keeping products} => {whole milk}  0.0012       0.92   0.0013  3.6    12\n",
      "[4] {rice,                                                                         \n",
      "     bottled water}          => {whole milk}  0.0012       0.92   0.0013  3.6    12\n",
      "[5] {soups,                                                                        \n",
      "     bottled beer}           => {whole milk}  0.0011       0.92   0.0012  3.6    11\n"
     ]
    }
   ],
   "source": [
    "# Permitir apenas regras de até 3 itens\n",
    "rules = apriori(Groceries, parameter = list(supp = 0.001, conf = 0.8,maxlen=3))\n",
    "rules = sort(rules, by=\"confidence\", decreasing=TRUE)\n",
    "inspect(rules[1:5])"
   ]
  },
  {
   "cell_type": "markdown",
   "metadata": {
    "colab_type": "text",
    "id": "JS7jn-3ZAcT7"
   },
   "source": [
    "### **Eliminação de regras redundantes**"
   ]
  },
  {
   "cell_type": "code",
   "execution_count": 16,
   "metadata": {
    "colab": {
     "base_uri": "https://localhost:8080/",
     "height": 51
    },
    "colab_type": "code",
    "id": "TC1lGoYZAhd6",
    "outputId": "080ec168-f0a3-44bd-c587-84e47c53b69d"
   },
   "outputs": [
    {
     "name": "stderr",
     "output_type": "stream",
     "text": [
      "Warning message in `[<-`(`*tmp*`, as.vector(i), value = NA):\n",
      "\"x[.] <- val: x is \"ngTMatrix\", val not in {TRUE, FALSE} is coerced; NA |--> TRUE.\"\n"
     ]
    }
   ],
   "source": [
    "subset.matrix = is.subset(rules, rules)\n",
    "subset.matrix[lower.tri(subset.matrix, diag=T)] <- NA\n",
    "redundant = colSums(subset.matrix, na.rm=T) >= 1\n",
    "rules.pruned = rules[!redundant]\n",
    "rules = rules.pruned"
   ]
  },
  {
   "cell_type": "markdown",
   "metadata": {
    "colab_type": "text",
    "id": "Jg-CK9OyA9bR"
   },
   "source": [
    "## **Fazendo recomendações**\n",
    "\n",
    "Há duas perguntas importantes a serem respondidas:\n",
    "\n",
    "- Pergunta nº 1 - O que os cientes costumam compram antes de comprar whole milk?\n",
    "- Pergunta nº 2 - O que os clientes costumam comprar se eles compram whole milk?\n",
    "\n",
    "### **Resposta da pergunta nº 1**?\n",
    "\n",
    "O que os cientes costumam compram antes de comprar whole milk?\n",
    "\n",
    "Para responder a essa pergunta basta utilizar a função `apriori` com os parametros do item que estamos procurando. Queremos congelar o item `rhs` e manter o `lhs` padrão (veja o nome das colunas da tabela abaixo). Para responder a segunda pergunta faremos o oposto.\n"
   ]
  },
  {
   "cell_type": "code",
   "execution_count": 17,
   "metadata": {
    "colab": {
     "base_uri": "https://localhost:8080/",
     "height": 238
    },
    "colab_type": "code",
    "id": "SwRyQl5UB_W9",
    "outputId": "cbd0ab0a-01c5-43cd-f2f6-66391b9bcf8f"
   },
   "outputs": [
    {
     "name": "stdout",
     "output_type": "stream",
     "text": [
      "    lhs                     rhs          support confidence coverage lift count\n",
      "[1] {tropical fruit,                                                           \n",
      "     root vegetables,                                                          \n",
      "     yogurt}             => {whole milk}  0.0057       0.70   0.0081  2.7    56\n",
      "[2] {pip fruit,                                                                \n",
      "     root vegetables,                                                          \n",
      "     other vegetables}   => {whole milk}  0.0055       0.68   0.0081  2.6    54\n",
      "[3] {butter,                                                                   \n",
      "     whipped/sour cream} => {whole milk}  0.0067       0.66   0.0102  2.6    66\n",
      "[4] {pip fruit,                                                                \n",
      "     whipped/sour cream} => {whole milk}  0.0060       0.65   0.0093  2.5    59\n",
      "[5] {butter,                                                                   \n",
      "     yogurt}             => {whole milk}  0.0094       0.64   0.0146  2.5    92\n"
     ]
    }
   ],
   "source": [
    "rules = apriori(data=Groceries, parameter=list(supp=0.005,conf = 0.5), \n",
    "                appearance = list(default=\"lhs\",rhs=\"whole milk\"),\n",
    "                control = list(verbose=F))\n",
    "rules = sort(rules, decreasing=TRUE,by=\"confidence\")\n",
    "inspect(rules[1:5])"
   ]
  },
  {
   "cell_type": "markdown",
   "metadata": {
    "colab_type": "text",
    "id": "dzjC1I1WCg7w"
   },
   "source": [
    "### **Resposta da pergunta nº 2**\n",
    "\n",
    "O que os clientes costumam comprar se eles compram whole milk?"
   ]
  },
  {
   "cell_type": "code",
   "execution_count": 18,
   "metadata": {
    "colab": {
     "base_uri": "https://localhost:8080/",
     "height": 119
    },
    "colab_type": "code",
    "id": "yjFcsCBuCnL4",
    "outputId": "9c0ac086-3338-42f2-d6b9-e0631d39af0b"
   },
   "outputs": [
    {
     "name": "stdout",
     "output_type": "stream",
     "text": [
      "    lhs             rhs                support confidence coverage lift count\n",
      "[1] {whole milk} => {other vegetables} 0.075   0.29       0.26     1.5  736  \n",
      "[2] {whole milk} => {rolls/buns}       0.057   0.22       0.26     1.2  557  \n",
      "[3] {whole milk} => {yogurt}           0.056   0.22       0.26     1.6  551  \n",
      "[4] {whole milk} => {root vegetables}  0.049   0.19       0.26     1.8  481  \n",
      "[5] {whole milk} => {tropical fruit}   0.042   0.17       0.26     1.6  416  \n"
     ]
    }
   ],
   "source": [
    "rules = apriori(data=Groceries, parameter=list(supp=0.001,conf = 0.15,minlen=2), \n",
    "                appearance = list(default=\"rhs\",lhs=\"whole milk\"),\n",
    "                control = list(verbose=F))\n",
    "rules = sort(rules, decreasing=TRUE,by=\"confidence\")\n",
    "inspect(rules[1:5])"
   ]
  },
  {
   "cell_type": "markdown",
   "metadata": {
    "colab_type": "text",
    "id": "vH8Vnw74Cz6B"
   },
   "source": [
    "## **Visualização**\n",
    "\n",
    "Tive alguns problemas para visualizar o mesmo gráfico que o criado por Rizka Yolanda. O item `interactive` já não existe, e o erro recomenda usar `engine` = \"interactive\", mas ainda assim dá problema **Error in structure(.External(.C_dotTclObjv, objv), class = \"tclObj\"): [tcl] invalid command name \"font\"**. \n",
    "\n",
    "A solução encontrad na internet foi de atualizar o pacote mas como esse pacote já vem com o google colab, não é possível atulizá-lo como mostra o warning abaixo:"
   ]
  },
  {
   "cell_type": "code",
   "execution_count": 19,
   "metadata": {
    "colab": {
     "base_uri": "https://localhost:8080/",
     "height": 136
    },
    "colab_type": "code",
    "id": "aVUP4AnikgvV",
    "outputId": "0aec48b1-d45d-4aa5-a49e-192e9e5c363b"
   },
   "outputs": [
    {
     "name": "stderr",
     "output_type": "stream",
     "text": [
      "Installing package into 'C:/Users/Kamila Midori Toyota/Documents/R/win-library/3.6'\n",
      "(as 'lib' is unspecified)\n",
      "\n",
      "Warning message:\n",
      "\"package 'tcltk' is not available (for R version 3.6.3)\"\n",
      "Warning message:\n",
      "\"package 'tcltk' is a base package, and should not be updated\"\n"
     ]
    }
   ],
   "source": [
    "install.packages(\"tcltk\")"
   ]
  },
  {
   "cell_type": "markdown",
   "metadata": {
    "colab_type": "text",
    "id": "f2LpreDclH6M"
   },
   "source": [
    "Não consegui fazer justamento o plot `engine` = `interactive`. Mas consegui outros plots"
   ]
  },
  {
   "cell_type": "code",
   "execution_count": 35,
   "metadata": {},
   "outputs": [
    {
     "data": {
      "image/png": "[encoded data removed]",
      "text/plain": [
       "Plot with title \"Graph for 6 rules\""
      ]
     },
     "metadata": {
      "image/png": {
       "height": 420,
       "width": 720
      },
      "text/plain": {
       "height": 420,
       "width": 720
      }
     },
     "output_type": "display_data"
    }
   ],
   "source": [
    "# Plot default\n",
    "plot(rules, method=\"graph\", engine = \"default\")"
   ]
  },
  {
   "cell_type": "code",
   "execution_count": 30,
   "metadata": {
    "colab": {
     "base_uri": "https://localhost:8080/",
     "height": 437
    },
    "colab_type": "code",
    "id": "by-mi3eEC5p8",
    "outputId": "9fd87fad-dc8d-4269-b234-79409bfdc34f"
   },
   "outputs": [
    {
     "name": "stderr",
     "output_type": "stream",
     "text": [
      "Loading required namespace: Rgraphviz\n",
      "\n"
     ]
    },
    {
     "data": {
      "image/png": "[encoded data removed]",
      "text/plain": [
       "Plot with title \"Graph for 6 rules\""
      ]
     },
     "metadata": {
      "image/png": {
       "height": 420,
       "width": 720
      },
      "text/plain": {
       "height": 420,
       "width": 720
      }
     },
     "output_type": "display_data"
    }
   ],
   "source": [
    "# Plot com Engine Graphviz\n",
    "plot(rules, method=\"graph\", engine = \"graphviz\")"
   ]
  },
  {
   "cell_type": "markdown",
   "metadata": {},
   "source": [
    "---\n",
    "\n",
    "<a href=\"https://midoritoyota.netlify.app/\" target=\"_blank\"><img align=\"left\" src=\"./images/portfolio.png\" title=\"See my portfolio!\"/></a><img align=\"left\" src=\"./images/espaco.png\"/>\n",
    "\n",
    "<a href=\"mailto:midori.toyota@gmail.com\" target=\"_blank\"><img align=\"left\" src=\"./images/gmail.png\" title=\"Contact me!\"/></a><img align=\"left\" src=\"./images/espaco.png\"/>\n",
    "\n",
    "<a href=\"https://www.linkedin.com/in/midoritoyota/\" target=\"_blank\"> <img align=\"left\" src=\"./images/linkedin.png\" title=\"Add me on linkedin!\" /></a><img align=\"left\" src=\"./images/espaco.png\"/>\n",
    "\n",
    "<a href=\"https://github.com/MidoriToyota\" target=\"_blank\"> <img align=\"left\" src=\"./images/github.png\" title=\"Follow me on github!\"/></a>\n",
    "\n",
    "<br/><br/>\n"
   ]
  }
 ],
 "metadata": {
  "colab": {
   "collapsed_sections": [],
   "name": "Exercicio_APRIORI_1.ipynb",
   "provenance": []
  },
  "kernelspec": {
   "display_name": "R",
   "language": "R",
   "name": "ir"
  },
  "language_info": {
   "codemirror_mode": "r",
   "file_extension": ".r",
   "mimetype": "text/x-r-source",
   "name": "R",
   "pygments_lexer": "r",
   "version": "3.6.3"
  }
 },
 "nbformat": 4,
 "nbformat_minor": 1
}
